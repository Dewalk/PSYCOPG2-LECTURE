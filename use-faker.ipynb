{
 "cells": [
  {
   "cell_type": "code",
   "execution_count": 15,
   "metadata": {},
   "outputs": [
    {
     "name": "stdout",
     "output_type": "stream",
     "text": [
      "Collecting package metadata (current_repodata.json): done\n",
      "Solving environment: done\n",
      "\n",
      "## Package Plan ##\n",
      "\n",
      "  environment location: /Users/seanreed1/miniconda3\n",
      "\n",
      "  added / updated specs:\n",
      "    - faker\n",
      "\n",
      "\n",
      "The following packages will be downloaded:\n",
      "\n",
      "    package                    |            build\n",
      "    ---------------------------|-----------------\n",
      "    faker-4.1.3                |             py_0         811 KB  conda-forge\n",
      "    openssl-1.1.1h             |       haf1e3a3_0         1.9 MB  conda-forge\n",
      "    text-unidecode-1.3         |             py_0          68 KB  conda-forge\n",
      "    ------------------------------------------------------------\n",
      "                                           Total:         2.7 MB\n",
      "\n",
      "The following NEW packages will be INSTALLED:\n",
      "\n",
      "  faker              conda-forge/noarch::faker-4.1.3-py_0\n",
      "  text-unidecode     conda-forge/noarch::text-unidecode-1.3-py_0\n",
      "\n",
      "The following packages will be UPDATED:\n",
      "\n",
      "  openssl                                 1.1.1g-haf1e3a3_1 --> 1.1.1h-haf1e3a3_0\n",
      "\n",
      "\n",
      "\n",
      "Downloading and Extracting Packages\n",
      "faker-4.1.3          | 811 KB    | ##################################### | 100% \n",
      "openssl-1.1.1h       | 1.9 MB    | ##################################### | 100% \n",
      "text-unidecode-1.3   | 68 KB     | ##################################### | 100% \n",
      "Preparing transaction: done\n",
      "Verifying transaction: done\n",
      "Executing transaction: done\n"
     ]
    }
   ],
   "source": [
    "#!conda install Faker -y"
   ]
  },
  {
   "cell_type": "code",
   "execution_count": 18,
   "metadata": {},
   "outputs": [],
   "source": [
    "import psycopg2\n",
    "import os\n",
    "from faker import Faker"
   ]
  },
  {
   "cell_type": "markdown",
   "metadata": {},
   "source": [
    "Python Faker tutorial shows how to generate fake data in Python with Faker package. We use the joke2k/faker library.\n",
    "http://zetcode.com/python/faker/"
   ]
  },
  {
   "cell_type": "code",
   "execution_count": 3,
   "metadata": {},
   "outputs": [],
   "source": [
    "conn = psycopg2.connect(database=\"jupyterdb\", user=os.getlogin()) #create the database before doing thisa\n",
    "cur = conn.cursor()"
   ]
  },
  {
   "cell_type": "code",
   "execution_count": 4,
   "metadata": {},
   "outputs": [],
   "source": [
    "conn.autocommit = True"
   ]
  },
  {
   "cell_type": "code",
   "execution_count": 5,
   "metadata": {},
   "outputs": [],
   "source": [
    "cur.execute(\"CREATE TABLE psycopg_test (id serial PRIMARY KEY, name text, email text);\")"
   ]
  },
  {
   "cell_type": "code",
   "execution_count": 6,
   "metadata": {},
   "outputs": [],
   "source": [
    "cur.execute(\"SELECT * FROM psycopg_test;\")"
   ]
  },
  {
   "cell_type": "code",
   "execution_count": 9,
   "metadata": {},
   "outputs": [],
   "source": [
    "cur.execute(\"INSERT INTO psycopg_test (name, email) VALUES (%s, %s)\",('sean', 'sqr9978@gmail.com') )"
   ]
  },
  {
   "cell_type": "code",
   "execution_count": 10,
   "metadata": {},
   "outputs": [],
   "source": [
    "cur.execute(\"SELECT * FROM psycopg_test;\")"
   ]
  },
  {
   "cell_type": "code",
   "execution_count": 11,
   "metadata": {},
   "outputs": [
    {
     "data": {
      "text/plain": [
       "(1, 'sean', 'sqr9978@gmail.com')"
      ]
     },
     "execution_count": 11,
     "metadata": {},
     "output_type": "execute_result"
    }
   ],
   "source": [
    "cur.fetchone()"
   ]
  },
  {
   "cell_type": "code",
   "execution_count": 12,
   "metadata": {},
   "outputs": [],
   "source": [
    "cur.fetchone() #None"
   ]
  },
  {
   "cell_type": "code",
   "execution_count": 13,
   "metadata": {},
   "outputs": [],
   "source": [
    "cur.scroll(0,'absolute')"
   ]
  },
  {
   "cell_type": "code",
   "execution_count": 14,
   "metadata": {},
   "outputs": [
    {
     "data": {
      "text/plain": [
       "(1, 'sean', 'sqr9978@gmail.com')"
      ]
     },
     "execution_count": 14,
     "metadata": {},
     "output_type": "execute_result"
    }
   ],
   "source": [
    "cur.fetchone()"
   ]
  },
  {
   "cell_type": "code",
   "execution_count": 28,
   "metadata": {},
   "outputs": [],
   "source": [
    "conn.rollback()"
   ]
  },
  {
   "cell_type": "code",
   "execution_count": 29,
   "metadata": {},
   "outputs": [],
   "source": [
    "conn.autocommit = True"
   ]
  },
  {
   "cell_type": "code",
   "execution_count": 27,
   "metadata": {},
   "outputs": [
    {
     "data": {
      "text/plain": [
       "[('Virginia Holmes', 'lesliewelch@shaw.com'),\n",
       " ('Bonnie Jones', 'holtbrian@gmail.com'),\n",
       " ('Brian Taylor', 'wrightjason@manning.com'),\n",
       " ('Jeremy Harris', 'allisonjackson@gmail.com'),\n",
       " ('Elizabeth Nguyen', 'jordanedward@taylor.com'),\n",
       " ('Natasha Smith', 'gwilkins@hotmail.com'),\n",
       " ('Alexandra Ramos', 'wardelizabeth@hotmail.com'),\n",
       " ('James Myers', 'billywang@gmail.com'),\n",
       " ('Becky Patton', 'youngzachary@graham.com'),\n",
       " ('Allen Brown', 'jessicamartin@young-freeman.info'),\n",
       " ('Sheryl Jones', 'barbarataylor@yahoo.com'),\n",
       " ('Amanda Yates', 'thomasrandy@thomas.net'),\n",
       " ('Brady Harris', 'racheljones@hotmail.com'),\n",
       " ('Mckenzie Williams', 'stephanie00@rose.com'),\n",
       " ('Michael Osborn', 'wallacedominic@hotmail.com'),\n",
       " ('Joshua Williams', 'conleylinda@gmail.com'),\n",
       " ('Heather Gonzalez DVM', 'hoovershelly@page-woods.com'),\n",
       " ('Taylor Joseph', 'oneillmichael@vazquez-davies.com'),\n",
       " ('Dana Booth', 'joseph97@hotmail.com'),\n",
       " ('Charles Williams', 'jonespeter@yahoo.com')]"
      ]
     },
     "execution_count": 27,
     "metadata": {},
     "output_type": "execute_result"
    }
   ],
   "source": [
    "fake_data = Faker()\n",
    "\n",
    "fake = [(fake_data.name(), fake_data.email()) for _ in range(20)]\n",
    "\n",
    "fake"
   ]
  },
  {
   "cell_type": "code",
   "execution_count": 33,
   "metadata": {},
   "outputs": [],
   "source": [
    "with conn:\n",
    "    cur.execute(\"INSERT INTO psycopg_test (name, email) VALUES (%s, %s)\",(fake[0][0], fake[0][1]))"
   ]
  },
  {
   "cell_type": "code",
   "execution_count": 34,
   "metadata": {},
   "outputs": [
    {
     "data": {
      "text/plain": [
       "(1, 'sean', 'sqr9978@gmail.com')"
      ]
     },
     "execution_count": 34,
     "metadata": {},
     "output_type": "execute_result"
    }
   ],
   "source": [
    "cur.execute(\"SELECT * FROM psycopg_test;\")\n",
    "cur.fetchone()"
   ]
  },
  {
   "cell_type": "code",
   "execution_count": 35,
   "metadata": {},
   "outputs": [
    {
     "data": {
      "text/plain": [
       "(2, 'Virginia Holmes', 'Virginia Holmes')"
      ]
     },
     "execution_count": 35,
     "metadata": {},
     "output_type": "execute_result"
    }
   ],
   "source": [
    "cur.fetchone()"
   ]
  },
  {
   "cell_type": "code",
   "execution_count": 36,
   "metadata": {},
   "outputs": [],
   "source": [
    "with conn:\n",
    "    for item in fake:\n",
    "            cur.execute(\"INSERT INTO psycopg_test (name, email) VALUES (%s, %s)\",(item[0], item[1]))"
   ]
  },
  {
   "cell_type": "code",
   "execution_count": 37,
   "metadata": {},
   "outputs": [
    {
     "data": {
      "text/plain": [
       "[(1, 'sean', 'sqr9978@gmail.com'),\n",
       " (2, 'Virginia Holmes', 'Virginia Holmes'),\n",
       " (3, 'Virginia Holmes', 'lesliewelch@shaw.com'),\n",
       " (4, 'Virginia Holmes', 'lesliewelch@shaw.com'),\n",
       " (5, 'Bonnie Jones', 'holtbrian@gmail.com'),\n",
       " (6, 'Brian Taylor', 'wrightjason@manning.com'),\n",
       " (7, 'Jeremy Harris', 'allisonjackson@gmail.com'),\n",
       " (8, 'Elizabeth Nguyen', 'jordanedward@taylor.com'),\n",
       " (9, 'Natasha Smith', 'gwilkins@hotmail.com'),\n",
       " (10, 'Alexandra Ramos', 'wardelizabeth@hotmail.com'),\n",
       " (11, 'James Myers', 'billywang@gmail.com'),\n",
       " (12, 'Becky Patton', 'youngzachary@graham.com'),\n",
       " (13, 'Allen Brown', 'jessicamartin@young-freeman.info'),\n",
       " (14, 'Sheryl Jones', 'barbarataylor@yahoo.com'),\n",
       " (15, 'Amanda Yates', 'thomasrandy@thomas.net'),\n",
       " (16, 'Brady Harris', 'racheljones@hotmail.com'),\n",
       " (17, 'Mckenzie Williams', 'stephanie00@rose.com'),\n",
       " (18, 'Michael Osborn', 'wallacedominic@hotmail.com'),\n",
       " (19, 'Joshua Williams', 'conleylinda@gmail.com'),\n",
       " (20, 'Heather Gonzalez DVM', 'hoovershelly@page-woods.com'),\n",
       " (21, 'Taylor Joseph', 'oneillmichael@vazquez-davies.com'),\n",
       " (22, 'Dana Booth', 'joseph97@hotmail.com'),\n",
       " (23, 'Charles Williams', 'jonespeter@yahoo.com')]"
      ]
     },
     "execution_count": 37,
     "metadata": {},
     "output_type": "execute_result"
    }
   ],
   "source": [
    "cur.execute(\"SELECT * FROM psycopg_test;\")\n",
    "cur.fetchall()"
   ]
  },
  {
   "cell_type": "code",
   "execution_count": 38,
   "metadata": {},
   "outputs": [
    {
     "data": {
      "text/plain": [
       "('Heather Perez', 'andreajones@hotmail.com')"
      ]
     },
     "execution_count": 38,
     "metadata": {},
     "output_type": "execute_result"
    }
   ],
   "source": [
    "fake_data.name(), fake_data.email()"
   ]
  },
  {
   "cell_type": "code",
   "execution_count": 39,
   "metadata": {},
   "outputs": [],
   "source": [
    "with conn:\n",
    "    for _ in range(5):\n",
    "            cur.execute(\"INSERT INTO psycopg_test (name, email) VALUES (%s, %s)\",(fake_data.name(), fake_data.email()))"
   ]
  },
  {
   "cell_type": "code",
   "execution_count": 40,
   "metadata": {},
   "outputs": [
    {
     "data": {
      "text/plain": [
       "[(1, 'sean', 'sqr9978@gmail.com'),\n",
       " (2, 'Virginia Holmes', 'Virginia Holmes'),\n",
       " (3, 'Virginia Holmes', 'lesliewelch@shaw.com'),\n",
       " (4, 'Virginia Holmes', 'lesliewelch@shaw.com'),\n",
       " (5, 'Bonnie Jones', 'holtbrian@gmail.com'),\n",
       " (6, 'Brian Taylor', 'wrightjason@manning.com'),\n",
       " (7, 'Jeremy Harris', 'allisonjackson@gmail.com'),\n",
       " (8, 'Elizabeth Nguyen', 'jordanedward@taylor.com'),\n",
       " (9, 'Natasha Smith', 'gwilkins@hotmail.com'),\n",
       " (10, 'Alexandra Ramos', 'wardelizabeth@hotmail.com'),\n",
       " (11, 'James Myers', 'billywang@gmail.com'),\n",
       " (12, 'Becky Patton', 'youngzachary@graham.com'),\n",
       " (13, 'Allen Brown', 'jessicamartin@young-freeman.info'),\n",
       " (14, 'Sheryl Jones', 'barbarataylor@yahoo.com'),\n",
       " (15, 'Amanda Yates', 'thomasrandy@thomas.net'),\n",
       " (16, 'Brady Harris', 'racheljones@hotmail.com'),\n",
       " (17, 'Mckenzie Williams', 'stephanie00@rose.com'),\n",
       " (18, 'Michael Osborn', 'wallacedominic@hotmail.com'),\n",
       " (19, 'Joshua Williams', 'conleylinda@gmail.com'),\n",
       " (20, 'Heather Gonzalez DVM', 'hoovershelly@page-woods.com'),\n",
       " (21, 'Taylor Joseph', 'oneillmichael@vazquez-davies.com'),\n",
       " (22, 'Dana Booth', 'joseph97@hotmail.com'),\n",
       " (23, 'Charles Williams', 'jonespeter@yahoo.com'),\n",
       " (24, 'Lisa Barnes', 'kimberly96@serrano-keller.com'),\n",
       " (25, 'Michael Dennis', 'bradleylawrence@gmail.com'),\n",
       " (26, 'Lauren Myers', 'sophiamccarthy@gmail.com'),\n",
       " (27, 'Benjamin Harris', 'bradleymosley@smith.info'),\n",
       " (28, 'Patricia Holmes', 'adammcdowell@hotmail.com')]"
      ]
     },
     "execution_count": 40,
     "metadata": {},
     "output_type": "execute_result"
    }
   ],
   "source": [
    "cur.execute(\"SELECT * FROM psycopg_test;\")\n",
    "cur.fetchall()"
   ]
  },
  {
   "cell_type": "code",
   "execution_count": 41,
   "metadata": {},
   "outputs": [],
   "source": [
    "conn.autocommit = False"
   ]
  },
  {
   "cell_type": "code",
   "execution_count": 42,
   "metadata": {},
   "outputs": [],
   "source": [
    "with conn:\n",
    "    for _ in range(5):\n",
    "            cur.execute(\"INSERT INTO psycopg_test (name, email) VALUES (%s, %s)\",\n",
    "                        (fake_data.name(), fake_data.email())\n",
    "                       )"
   ]
  },
  {
   "cell_type": "code",
   "execution_count": 47,
   "metadata": {},
   "outputs": [
    {
     "data": {
      "text/plain": [
       "[(1, 'sean', 'sqr9978@gmail.com'),\n",
       " (2, 'Virginia Holmes', 'Virginia Holmes'),\n",
       " (3, 'Virginia Holmes', 'lesliewelch@shaw.com'),\n",
       " (4, 'Virginia Holmes', 'lesliewelch@shaw.com'),\n",
       " (5, 'Bonnie Jones', 'holtbrian@gmail.com'),\n",
       " (6, 'Brian Taylor', 'wrightjason@manning.com'),\n",
       " (7, 'Jeremy Harris', 'allisonjackson@gmail.com'),\n",
       " (8, 'Elizabeth Nguyen', 'jordanedward@taylor.com'),\n",
       " (9, 'Natasha Smith', 'gwilkins@hotmail.com'),\n",
       " (10, 'Alexandra Ramos', 'wardelizabeth@hotmail.com'),\n",
       " (11, 'James Myers', 'billywang@gmail.com'),\n",
       " (12, 'Becky Patton', 'youngzachary@graham.com'),\n",
       " (13, 'Allen Brown', 'jessicamartin@young-freeman.info'),\n",
       " (14, 'Sheryl Jones', 'barbarataylor@yahoo.com'),\n",
       " (15, 'Amanda Yates', 'thomasrandy@thomas.net'),\n",
       " (16, 'Brady Harris', 'racheljones@hotmail.com'),\n",
       " (17, 'Mckenzie Williams', 'stephanie00@rose.com'),\n",
       " (18, 'Michael Osborn', 'wallacedominic@hotmail.com'),\n",
       " (19, 'Joshua Williams', 'conleylinda@gmail.com'),\n",
       " (20, 'Heather Gonzalez DVM', 'hoovershelly@page-woods.com'),\n",
       " (21, 'Taylor Joseph', 'oneillmichael@vazquez-davies.com'),\n",
       " (22, 'Dana Booth', 'joseph97@hotmail.com'),\n",
       " (23, 'Charles Williams', 'jonespeter@yahoo.com'),\n",
       " (24, 'Lisa Barnes', 'kimberly96@serrano-keller.com'),\n",
       " (25, 'Michael Dennis', 'bradleylawrence@gmail.com'),\n",
       " (26, 'Lauren Myers', 'sophiamccarthy@gmail.com'),\n",
       " (27, 'Benjamin Harris', 'bradleymosley@smith.info'),\n",
       " (28, 'Patricia Holmes', 'adammcdowell@hotmail.com'),\n",
       " (29, 'Lisa Pratt', 'stricklandkatrina@smith.info'),\n",
       " (30, 'Charlotte Warren', 'billwiggins@holloway-young.biz'),\n",
       " (31, 'Jose White', 'bethanygonzalez@stone-thomas.com'),\n",
       " (32, 'Hailey Nguyen', 'smithbeth@yahoo.com'),\n",
       " (33, 'Tanya Rowland', 'campbellamanda@smith-lopez.org')]"
      ]
     },
     "execution_count": 47,
     "metadata": {},
     "output_type": "execute_result"
    }
   ],
   "source": [
    "cur.execute(\"SELECT * FROM psycopg_test;\")\n",
    "conn.commit()\n",
    "cur.fetchall()"
   ]
  },
  {
   "cell_type": "code",
   "execution_count": 50,
   "metadata": {},
   "outputs": [
    {
     "ename": "InterfaceError",
     "evalue": "cursor already closed",
     "output_type": "error",
     "traceback": [
      "\u001b[0;31m---------------------------------------------------------------------------\u001b[0m",
      "\u001b[0;31mInterfaceError\u001b[0m                            Traceback (most recent call last)",
      "\u001b[0;32m<ipython-input-50-c086da75b6a4>\u001b[0m in \u001b[0;36m<module>\u001b[0;34m\u001b[0m\n\u001b[1;32m      1\u001b[0m \u001b[0;32mwith\u001b[0m \u001b[0mcur\u001b[0m\u001b[0;34m:\u001b[0m\u001b[0;34m\u001b[0m\u001b[0;34m\u001b[0m\u001b[0m\n\u001b[0;32m----> 2\u001b[0;31m     \u001b[0mcur\u001b[0m\u001b[0;34m.\u001b[0m\u001b[0mexecute\u001b[0m\u001b[0;34m(\u001b[0m\u001b[0;34m\"SELECT * FROM psycopg_test;\"\u001b[0m\u001b[0;34m)\u001b[0m\u001b[0;34m\u001b[0m\u001b[0;34m\u001b[0m\u001b[0m\n\u001b[0m\u001b[1;32m      3\u001b[0m     \u001b[0mconn\u001b[0m\u001b[0;34m.\u001b[0m\u001b[0mcommit\u001b[0m\u001b[0;34m(\u001b[0m\u001b[0;34m)\u001b[0m\u001b[0;34m\u001b[0m\u001b[0;34m\u001b[0m\u001b[0m\n\u001b[1;32m      4\u001b[0m     \u001b[0mcur\u001b[0m\u001b[0;34m.\u001b[0m\u001b[0mfetchall\u001b[0m\u001b[0;34m(\u001b[0m\u001b[0;34m)\u001b[0m\u001b[0;34m\u001b[0m\u001b[0;34m\u001b[0m\u001b[0m\n",
      "\u001b[0;31mInterfaceError\u001b[0m: cursor already closed"
     ]
    }
   ],
   "source": [
    "with cur:\n",
    "    cur.execute(\"SELECT * FROM psycopg_test;\")\n",
    "    conn.commit()\n",
    "    cur.fetchall()"
   ]
  },
  {
   "cell_type": "code",
   "execution_count": null,
   "metadata": {},
   "outputs": [],
   "source": []
  },
  {
   "cell_type": "code",
   "execution_count": 55,
   "metadata": {},
   "outputs": [
    {
     "data": {
      "text/plain": [
       "[(1, 'sean', 'sqr9978@gmail.com'),\n",
       " (2, 'Virginia Holmes', 'Virginia Holmes'),\n",
       " (3, 'Virginia Holmes', 'lesliewelch@shaw.com'),\n",
       " (4, 'Virginia Holmes', 'lesliewelch@shaw.com'),\n",
       " (5, 'Bonnie Jones', 'holtbrian@gmail.com'),\n",
       " (6, 'Brian Taylor', 'wrightjason@manning.com'),\n",
       " (7, 'Jeremy Harris', 'allisonjackson@gmail.com'),\n",
       " (8, 'Elizabeth Nguyen', 'jordanedward@taylor.com'),\n",
       " (9, 'Natasha Smith', 'gwilkins@hotmail.com'),\n",
       " (10, 'Alexandra Ramos', 'wardelizabeth@hotmail.com'),\n",
       " (11, 'James Myers', 'billywang@gmail.com'),\n",
       " (12, 'Becky Patton', 'youngzachary@graham.com'),\n",
       " (13, 'Allen Brown', 'jessicamartin@young-freeman.info'),\n",
       " (14, 'Sheryl Jones', 'barbarataylor@yahoo.com'),\n",
       " (15, 'Amanda Yates', 'thomasrandy@thomas.net'),\n",
       " (16, 'Brady Harris', 'racheljones@hotmail.com'),\n",
       " (17, 'Mckenzie Williams', 'stephanie00@rose.com'),\n",
       " (18, 'Michael Osborn', 'wallacedominic@hotmail.com'),\n",
       " (19, 'Joshua Williams', 'conleylinda@gmail.com'),\n",
       " (20, 'Heather Gonzalez DVM', 'hoovershelly@page-woods.com'),\n",
       " (21, 'Taylor Joseph', 'oneillmichael@vazquez-davies.com'),\n",
       " (22, 'Dana Booth', 'joseph97@hotmail.com'),\n",
       " (23, 'Charles Williams', 'jonespeter@yahoo.com'),\n",
       " (24, 'Lisa Barnes', 'kimberly96@serrano-keller.com'),\n",
       " (25, 'Michael Dennis', 'bradleylawrence@gmail.com'),\n",
       " (26, 'Lauren Myers', 'sophiamccarthy@gmail.com'),\n",
       " (27, 'Benjamin Harris', 'bradleymosley@smith.info'),\n",
       " (28, 'Patricia Holmes', 'adammcdowell@hotmail.com'),\n",
       " (29, 'Lisa Pratt', 'stricklandkatrina@smith.info'),\n",
       " (30, 'Charlotte Warren', 'billwiggins@holloway-young.biz'),\n",
       " (31, 'Jose White', 'bethanygonzalez@stone-thomas.com'),\n",
       " (32, 'Hailey Nguyen', 'smithbeth@yahoo.com'),\n",
       " (33, 'Tanya Rowland', 'campbellamanda@smith-lopez.org')]"
      ]
     },
     "execution_count": 55,
     "metadata": {},
     "output_type": "execute_result"
    }
   ],
   "source": [
    "cur = conn.cursor()\n",
    "\n",
    "cur.execute(\"SELECT * FROM psycopg_test;\")\n",
    "conn.commit()\n",
    "cur.fetchall()"
   ]
  },
  {
   "cell_type": "code",
   "execution_count": 57,
   "metadata": {},
   "outputs": [
    {
     "data": {
      "text/plain": [
       "[]"
      ]
     },
     "execution_count": 57,
     "metadata": {},
     "output_type": "execute_result"
    }
   ],
   "source": [
    "cur.fetchall()"
   ]
  },
  {
   "cell_type": "code",
   "execution_count": 58,
   "metadata": {},
   "outputs": [
    {
     "data": {
      "text/plain": [
       "[(1, 'sean', 'sqr9978@gmail.com'),\n",
       " (2, 'Virginia Holmes', 'Virginia Holmes'),\n",
       " (3, 'Virginia Holmes', 'lesliewelch@shaw.com'),\n",
       " (4, 'Virginia Holmes', 'lesliewelch@shaw.com'),\n",
       " (5, 'Bonnie Jones', 'holtbrian@gmail.com'),\n",
       " (6, 'Brian Taylor', 'wrightjason@manning.com'),\n",
       " (7, 'Jeremy Harris', 'allisonjackson@gmail.com'),\n",
       " (8, 'Elizabeth Nguyen', 'jordanedward@taylor.com'),\n",
       " (9, 'Natasha Smith', 'gwilkins@hotmail.com'),\n",
       " (10, 'Alexandra Ramos', 'wardelizabeth@hotmail.com'),\n",
       " (11, 'James Myers', 'billywang@gmail.com'),\n",
       " (12, 'Becky Patton', 'youngzachary@graham.com'),\n",
       " (13, 'Allen Brown', 'jessicamartin@young-freeman.info'),\n",
       " (14, 'Sheryl Jones', 'barbarataylor@yahoo.com'),\n",
       " (15, 'Amanda Yates', 'thomasrandy@thomas.net'),\n",
       " (16, 'Brady Harris', 'racheljones@hotmail.com'),\n",
       " (17, 'Mckenzie Williams', 'stephanie00@rose.com'),\n",
       " (18, 'Michael Osborn', 'wallacedominic@hotmail.com'),\n",
       " (19, 'Joshua Williams', 'conleylinda@gmail.com'),\n",
       " (20, 'Heather Gonzalez DVM', 'hoovershelly@page-woods.com'),\n",
       " (21, 'Taylor Joseph', 'oneillmichael@vazquez-davies.com'),\n",
       " (22, 'Dana Booth', 'joseph97@hotmail.com'),\n",
       " (23, 'Charles Williams', 'jonespeter@yahoo.com'),\n",
       " (24, 'Lisa Barnes', 'kimberly96@serrano-keller.com'),\n",
       " (25, 'Michael Dennis', 'bradleylawrence@gmail.com'),\n",
       " (26, 'Lauren Myers', 'sophiamccarthy@gmail.com'),\n",
       " (27, 'Benjamin Harris', 'bradleymosley@smith.info'),\n",
       " (28, 'Patricia Holmes', 'adammcdowell@hotmail.com'),\n",
       " (29, 'Lisa Pratt', 'stricklandkatrina@smith.info'),\n",
       " (30, 'Charlotte Warren', 'billwiggins@holloway-young.biz'),\n",
       " (31, 'Jose White', 'bethanygonzalez@stone-thomas.com'),\n",
       " (32, 'Hailey Nguyen', 'smithbeth@yahoo.com'),\n",
       " (33, 'Tanya Rowland', 'campbellamanda@smith-lopez.org')]"
      ]
     },
     "execution_count": 58,
     "metadata": {},
     "output_type": "execute_result"
    }
   ],
   "source": [
    "cur.scroll(0,'absolute')\n",
    "cur.fetchall()"
   ]
  },
  {
   "cell_type": "code",
   "execution_count": 59,
   "metadata": {},
   "outputs": [],
   "source": [
    "conn.autocommit = True"
   ]
  },
  {
   "cell_type": "code",
   "execution_count": 60,
   "metadata": {},
   "outputs": [],
   "source": [
    "cur.close()\n",
    "conn.close()"
   ]
  },
  {
   "cell_type": "code",
   "execution_count": null,
   "metadata": {},
   "outputs": [],
   "source": [
    "# tip\n",
    "# use one file to create the table\n",
    "# use another file to insert into the table"
   ]
  },
  {
   "cell_type": "code",
   "execution_count": null,
   "metadata": {},
   "outputs": [],
   "source": []
  },
  {
   "cell_type": "code",
   "execution_count": 61,
   "metadata": {},
   "outputs": [
    {
     "data": {
      "text/plain": [
       "\u001b[0;31mDocstring:\u001b[0m\n",
       "S.format(*args, **kwargs) -> str\n",
       "\n",
       "Return a formatted version of S, using substitutions from args and kwargs.\n",
       "The substitutions are identified by braces ('{' and '}').\n",
       "\u001b[0;31mType:\u001b[0m      method_descriptor\n"
      ]
     },
     "metadata": {},
     "output_type": "display_data"
    }
   ],
   "source": [
    "str.format??"
   ]
  },
  {
   "cell_type": "code",
   "execution_count": 62,
   "metadata": {},
   "outputs": [],
   "source": [
    "conn = psycopg2.connect(database=\"jupyterdb\", user=os.getlogin()) #create the database before doing thisa\n",
    "cur = conn.cursor()"
   ]
  },
  {
   "cell_type": "code",
   "execution_count": 63,
   "metadata": {},
   "outputs": [],
   "source": [
    "conn.autocommit = True"
   ]
  },
  {
   "cell_type": "code",
   "execution_count": 64,
   "metadata": {},
   "outputs": [
    {
     "data": {
      "text/plain": [
       "[('Virginia Holmes', 'lesliewelch@shaw.com'),\n",
       " ('Bonnie Jones', 'holtbrian@gmail.com'),\n",
       " ('Brian Taylor', 'wrightjason@manning.com'),\n",
       " ('Jeremy Harris', 'allisonjackson@gmail.com'),\n",
       " ('Elizabeth Nguyen', 'jordanedward@taylor.com'),\n",
       " ('Natasha Smith', 'gwilkins@hotmail.com'),\n",
       " ('Alexandra Ramos', 'wardelizabeth@hotmail.com'),\n",
       " ('James Myers', 'billywang@gmail.com'),\n",
       " ('Becky Patton', 'youngzachary@graham.com'),\n",
       " ('Allen Brown', 'jessicamartin@young-freeman.info'),\n",
       " ('Sheryl Jones', 'barbarataylor@yahoo.com'),\n",
       " ('Amanda Yates', 'thomasrandy@thomas.net'),\n",
       " ('Brady Harris', 'racheljones@hotmail.com'),\n",
       " ('Mckenzie Williams', 'stephanie00@rose.com'),\n",
       " ('Michael Osborn', 'wallacedominic@hotmail.com'),\n",
       " ('Joshua Williams', 'conleylinda@gmail.com'),\n",
       " ('Heather Gonzalez DVM', 'hoovershelly@page-woods.com'),\n",
       " ('Taylor Joseph', 'oneillmichael@vazquez-davies.com'),\n",
       " ('Dana Booth', 'joseph97@hotmail.com'),\n",
       " ('Charles Williams', 'jonespeter@yahoo.com')]"
      ]
     },
     "execution_count": 64,
     "metadata": {},
     "output_type": "execute_result"
    }
   ],
   "source": [
    "fake"
   ]
  },
  {
   "cell_type": "markdown",
   "metadata": {},
   "source": [
    "https://kb.objectrocket.com/postgresql/execute-an-sql-statement-for-postgresql-using-python-856"
   ]
  },
  {
   "cell_type": "code",
   "execution_count": null,
   "metadata": {},
   "outputs": [],
   "source": []
  },
  {
   "cell_type": "code",
   "execution_count": 65,
   "metadata": {},
   "outputs": [
    {
     "ename": "AttributeError",
     "evalue": "module 'psycopg2' has no attribute 'sql'",
     "output_type": "error",
     "traceback": [
      "\u001b[0;31m---------------------------------------------------------------------------\u001b[0m",
      "\u001b[0;31mAttributeError\u001b[0m                            Traceback (most recent call last)",
      "\u001b[0;32m<ipython-input-65-1c00f83e0f30>\u001b[0m in \u001b[0;36m<module>\u001b[0;34m\u001b[0m\n\u001b[0;32m----> 1\u001b[0;31m \u001b[0mSQL\u001b[0m \u001b[0;34m=\u001b[0m \u001b[0mpsycopg2\u001b[0m\u001b[0;34m.\u001b[0m\u001b[0msql\u001b[0m\u001b[0;34m\u001b[0m\u001b[0;34m\u001b[0m\u001b[0m\n\u001b[0m",
      "\u001b[0;31mAttributeError\u001b[0m: module 'psycopg2' has no attribute 'sql'"
     ]
    }
   ],
   "source": []
  },
  {
   "cell_type": "code",
   "execution_count": null,
   "metadata": {},
   "outputs": [],
   "source": []
  }
 ],
 "metadata": {
  "kernelspec": {
   "display_name": "Python 3",
   "language": "python",
   "name": "python3"
  },
  "language_info": {
   "codemirror_mode": {
    "name": "ipython",
    "version": 3
   },
   "file_extension": ".py",
   "mimetype": "text/x-python",
   "name": "python",
   "nbconvert_exporter": "python",
   "pygments_lexer": "ipython3",
   "version": "3.7.7"
  }
 },
 "nbformat": 4,
 "nbformat_minor": 4
}
