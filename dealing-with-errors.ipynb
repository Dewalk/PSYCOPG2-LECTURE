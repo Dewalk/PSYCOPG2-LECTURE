{
 "cells": [
  {
   "cell_type": "code",
   "execution_count": null,
   "metadata": {},
   "outputs": [],
   "source": [
    "# !conda update conda -y\n",
    "# !conda update conda -y\n",
    "# !conda install psycopg2 -y"
   ]
  },
  {
   "cell_type": "code",
   "execution_count": 1,
   "metadata": {},
   "outputs": [],
   "source": [
    "import psycopg2\n",
    "from psycopg2 import errorcodes, errors\n",
    "import os, sys, getpass"
   ]
  },
  {
   "cell_type": "code",
   "execution_count": 2,
   "metadata": {},
   "outputs": [
    {
     "data": {
      "text/plain": [
       "'seanreed1'"
      ]
     },
     "execution_count": 2,
     "metadata": {},
     "output_type": "execute_result"
    }
   ],
   "source": [
    "getpass.getuser()"
   ]
  },
  {
   "cell_type": "code",
   "execution_count": 3,
   "metadata": {},
   "outputs": [],
   "source": [
    "conn = psycopg2.connect(database=\"jupyterdb\", user=getpass.getuser())\n"
   ]
  },
  {
   "cell_type": "code",
   "execution_count": 4,
   "metadata": {},
   "outputs": [
    {
     "data": {
      "text/plain": [
       "[(1, 2, 3)]"
      ]
     },
     "execution_count": 4,
     "metadata": {},
     "output_type": "execute_result"
    }
   ],
   "source": [
    "cur = conn.cursor()\n",
    "cur.execute(\"SELECT 1,2,3;\")\n",
    "conn.commit()\n",
    "cur.fetchall()"
   ]
  },
  {
   "cell_type": "markdown",
   "metadata": {},
   "source": [
    "Note: If you don't want to have **conn.commit()** everywhere in your code, set\n",
    "\n",
    "conn.autocommit = True"
   ]
  },
  {
   "cell_type": "code",
   "execution_count": 5,
   "metadata": {},
   "outputs": [],
   "source": [
    "# let's cleanup\n",
    "cur.close(), conn.close()"
   ]
  },
  {
   "cell_type": "code",
   "execution_count": null,
   "metadata": {},
   "outputs": [],
   "source": []
  },
  {
   "cell_type": "code",
   "execution_count": 6,
   "metadata": {},
   "outputs": [
    {
     "ename": "OperationalError",
     "evalue": "FATAL:  database \"doesnotexist\" does not exist\n",
     "output_type": "error",
     "traceback": [
      "\u001b[0;31m---------------------------------------------------------------------------\u001b[0m",
      "\u001b[0;31mOperationalError\u001b[0m                          Traceback (most recent call last)",
      "\u001b[0;32m<ipython-input-6-9c5751d7486f>\u001b[0m in \u001b[0;36m<module>\u001b[0;34m\u001b[0m\n\u001b[1;32m      1\u001b[0m \u001b[0;31m# what if we get the database name wrong?\u001b[0m\u001b[0;34m\u001b[0m\u001b[0;34m\u001b[0m\u001b[0;34m\u001b[0m\u001b[0m\n\u001b[0;32m----> 2\u001b[0;31m \u001b[0mconn\u001b[0m \u001b[0;34m=\u001b[0m \u001b[0mpsycopg2\u001b[0m\u001b[0;34m.\u001b[0m\u001b[0mconnect\u001b[0m\u001b[0;34m(\u001b[0m\u001b[0mdatabase\u001b[0m\u001b[0;34m=\u001b[0m\u001b[0;34m\"doesnotexist\"\u001b[0m\u001b[0;34m,\u001b[0m \u001b[0muser\u001b[0m\u001b[0;34m=\u001b[0m\u001b[0mgetpass\u001b[0m\u001b[0;34m.\u001b[0m\u001b[0mgetuser\u001b[0m\u001b[0;34m(\u001b[0m\u001b[0;34m)\u001b[0m\u001b[0;34m)\u001b[0m\u001b[0;34m\u001b[0m\u001b[0;34m\u001b[0m\u001b[0m\n\u001b[0m",
      "\u001b[0;32m~/miniconda3/lib/python3.7/site-packages/psycopg2/__init__.py\u001b[0m in \u001b[0;36mconnect\u001b[0;34m(dsn, connection_factory, cursor_factory, **kwargs)\u001b[0m\n\u001b[1;32m    125\u001b[0m \u001b[0;34m\u001b[0m\u001b[0m\n\u001b[1;32m    126\u001b[0m     \u001b[0mdsn\u001b[0m \u001b[0;34m=\u001b[0m \u001b[0m_ext\u001b[0m\u001b[0;34m.\u001b[0m\u001b[0mmake_dsn\u001b[0m\u001b[0;34m(\u001b[0m\u001b[0mdsn\u001b[0m\u001b[0;34m,\u001b[0m \u001b[0;34m**\u001b[0m\u001b[0mkwargs\u001b[0m\u001b[0;34m)\u001b[0m\u001b[0;34m\u001b[0m\u001b[0;34m\u001b[0m\u001b[0m\n\u001b[0;32m--> 127\u001b[0;31m     \u001b[0mconn\u001b[0m \u001b[0;34m=\u001b[0m \u001b[0m_connect\u001b[0m\u001b[0;34m(\u001b[0m\u001b[0mdsn\u001b[0m\u001b[0;34m,\u001b[0m \u001b[0mconnection_factory\u001b[0m\u001b[0;34m=\u001b[0m\u001b[0mconnection_factory\u001b[0m\u001b[0;34m,\u001b[0m \u001b[0;34m**\u001b[0m\u001b[0mkwasync\u001b[0m\u001b[0;34m)\u001b[0m\u001b[0;34m\u001b[0m\u001b[0;34m\u001b[0m\u001b[0m\n\u001b[0m\u001b[1;32m    128\u001b[0m     \u001b[0;32mif\u001b[0m \u001b[0mcursor_factory\u001b[0m \u001b[0;32mis\u001b[0m \u001b[0;32mnot\u001b[0m \u001b[0;32mNone\u001b[0m\u001b[0;34m:\u001b[0m\u001b[0;34m\u001b[0m\u001b[0;34m\u001b[0m\u001b[0m\n\u001b[1;32m    129\u001b[0m         \u001b[0mconn\u001b[0m\u001b[0;34m.\u001b[0m\u001b[0mcursor_factory\u001b[0m \u001b[0;34m=\u001b[0m \u001b[0mcursor_factory\u001b[0m\u001b[0;34m\u001b[0m\u001b[0;34m\u001b[0m\u001b[0m\n",
      "\u001b[0;31mOperationalError\u001b[0m: FATAL:  database \"doesnotexist\" does not exist\n"
     ]
    }
   ],
   "source": [
    "# what if we get the database name wrong?\n",
    "conn = psycopg2.connect(database=\"doesnotexist\", user=getpass.getuser())"
   ]
  },
  {
   "cell_type": "code",
   "execution_count": null,
   "metadata": {},
   "outputs": [],
   "source": []
  },
  {
   "cell_type": "code",
   "execution_count": null,
   "metadata": {},
   "outputs": [],
   "source": [
    "## let's catch the Operational Error for db does not exist now"
   ]
  },
  {
   "cell_type": "markdown",
   "metadata": {},
   "source": [
    "https://www-freecodecamp-org.cdn.ampproject.org/c/s/www.freecodecamp.org/news/connect-python-with-sql/amp/"
   ]
  },
  {
   "cell_type": "code",
   "execution_count": null,
   "metadata": {},
   "outputs": [],
   "source": [
    "# # define a function that handles and parses psycopg2 exceptions\n",
    "# MIGHT NOT NEED THIS ANYMORE\n",
    "# def print_psycopg2_exception(err):\n",
    "#     # get details about the exception\n",
    "#     err_type, err_obj, traceback = sys.exc_info()\n",
    "\n",
    "#     # get the line number when exception occured\n",
    "#     line_num = traceback.tb_lineno\n",
    "#     # print the connect() error\n",
    "#     print (f\"\\npsycopg2 ERROR: {err}, on line number:{line_num}\\n\")\n",
    "#     print (f\"psycopg2 traceback: {traceback}\\ntype: {err_type}\\n\")\n",
    "\n",
    "#     # psycopg2 extensions.Diagnostics object attribute\n",
    "#     print (f\"\\nextensions.Diagnostics: {err.diag}\")\n",
    "\n",
    "#     # print the pgcode and pgerror exceptions\n",
    "#     print (f\"pgerror: {err.pgerror}\\n\")\n",
    "#     print (f\"pgcode: {err.pgcode} \\n\")"
   ]
  },
  {
   "cell_type": "code",
   "execution_count": 7,
   "metadata": {},
   "outputs": [],
   "source": [
    "def create_server_connection(database, user):\n",
    "    conn = None\n",
    "    try:\n",
    "        conn = psycopg2.connect(\n",
    "            database=database,\n",
    "            user=user,\n",
    "        )\n",
    "        print(f\"Connected to Database {database} successfully\")\n",
    "        \n",
    "    except Exception as e:\n",
    "        print(e)\n",
    "\n",
    "    return conn"
   ]
  },
  {
   "cell_type": "code",
   "execution_count": 8,
   "metadata": {},
   "outputs": [
    {
     "name": "stdout",
     "output_type": "stream",
     "text": [
      "FATAL:  database \"doesnotexist\" does not exist\n",
      "\n"
     ]
    }
   ],
   "source": [
    "conn = create_server_connection(database=\"doesnotexist\", user=getpass.getuser())"
   ]
  },
  {
   "cell_type": "code",
   "execution_count": 9,
   "metadata": {},
   "outputs": [
    {
     "name": "stdout",
     "output_type": "stream",
     "text": [
      "Connected to Database jupyterdb successfully\n"
     ]
    },
    {
     "data": {
      "text/plain": [
       "[(1, 2, 3, 4, 5)]"
      ]
     },
     "execution_count": 9,
     "metadata": {},
     "output_type": "execute_result"
    }
   ],
   "source": [
    "#let's make sure the create_server_connection can still connect normally\n",
    "\n",
    "conn = create_server_connection(database=\"jupyterdb\", user=getpass.getuser())\n",
    "cur = conn.cursor()\n",
    "cur.execute(\"SELECT 1,2,3,4,5;\")\n",
    "conn.commit()\n",
    "cur.fetchall()"
   ]
  },
  {
   "cell_type": "code",
   "execution_count": 10,
   "metadata": {},
   "outputs": [
    {
     "data": {
      "text/plain": [
       "(None, None)"
      ]
     },
     "execution_count": 10,
     "metadata": {},
     "output_type": "execute_result"
    }
   ],
   "source": [
    "# let's cleanup\n",
    "\n",
    "cur.close(), conn.close()"
   ]
  },
  {
   "cell_type": "code",
   "execution_count": null,
   "metadata": {},
   "outputs": [],
   "source": []
  },
  {
   "cell_type": "code",
   "execution_count": 11,
   "metadata": {},
   "outputs": [
    {
     "name": "stdout",
     "output_type": "stream",
     "text": [
      "Connected to Database jupyterdb successfully\n",
      "relation \"notable\" does not exist\n",
      "LINE 1: SELECT * FROM NOTABLE;\n",
      "                      ^\n",
      "\n"
     ]
    }
   ],
   "source": [
    "# Let's check error handling on SQL statements\n",
    "\n",
    "conn = create_server_connection(database=\"jupyterdb\", user=getpass.getuser())\n",
    "\n",
    "#the context manager will close the cursor when it exists. \n",
    "# GOTCHA: YOU MUST CLOSE THE CONNECTION EXPLICITLY (context manager does not close the conn)\n",
    "\n",
    "with conn.cursor() as cursor:\n",
    "    try:\n",
    "        cursor.execute(\"SELECT * FROM NOTABLE;\")\n",
    "        conn.commit()\n",
    "    except Exception as e:\n",
    "        print(e)\n",
    "\n",
    "conn.close()\n"
   ]
  },
  {
   "cell_type": "code",
   "execution_count": null,
   "metadata": {},
   "outputs": [],
   "source": [
    "# let's write a create/drop database function "
   ]
  },
  {
   "cell_type": "code",
   "execution_count": null,
   "metadata": {},
   "outputs": [],
   "source": []
  },
  {
   "cell_type": "code",
   "execution_count": 37,
   "metadata": {},
   "outputs": [],
   "source": [
    "def create_or_drop_database(conn, query):\n",
    "    autocommit = conn.autocommit #preserve the value of autocommit\n",
    "    conn.autocommit = True #MUST BE set to True since Postgresql cannot create a database in a transaction\n",
    "    with conn.cursor() as cur:\n",
    "        try:\n",
    "            cur.execute(query)\n",
    "            print(\"Database created/dropped successfully.\")\n",
    "        except Exception as e:\n",
    "            print(e)\n",
    "        finally:\n",
    "            #be a good citizen and put stuff back the way you found it\n",
    "            conn.autocommit = autocommit "
   ]
  },
  {
   "cell_type": "code",
   "execution_count": 36,
   "metadata": {},
   "outputs": [
    {
     "name": "stdout",
     "output_type": "stream",
     "text": [
      "Connected to Database jupyterdb successfully\n",
      "Database created/dropped successfully.\n"
     ]
    }
   ],
   "source": [
    "q = \"CREATE DATABASE school4;\"\n",
    "\n",
    "conn = create_server_connection(database=\"jupyterdb\", user=getpass.getuser())\n",
    "create_or_drop_database(conn, q)\n",
    "conn.close()"
   ]
  },
  {
   "cell_type": "code",
   "execution_count": null,
   "metadata": {},
   "outputs": [],
   "source": []
  },
  {
   "cell_type": "code",
   "execution_count": 38,
   "metadata": {},
   "outputs": [
    {
     "name": "stdout",
     "output_type": "stream",
     "text": [
      "Connected to Database jupyterdb successfully\n",
      "Database created/dropped successfully.\n"
     ]
    }
   ],
   "source": [
    "q = \"DROP DATABASE school4;\"\n",
    "\n",
    "conn = create_server_connection(database=\"jupyterdb\", user=getpass.getuser())\n",
    "create_or_drop_database(conn, q)\n",
    "conn.close()"
   ]
  },
  {
   "cell_type": "code",
   "execution_count": null,
   "metadata": {},
   "outputs": [],
   "source": []
  },
  {
   "cell_type": "code",
   "execution_count": 1,
   "metadata": {},
   "outputs": [],
   "source": [
    "# let's write an execute query function\n",
    "# we want our function to return a cursor with the results\n",
    "\n",
    "def execute_query(conn, query):\n",
    "    autocommit = conn.autocommit #preserve the value of autocommit\n",
    "    conn.autocommit = True #MUST BE set to True since Postgresql cannot create a database in a transaction\n",
    "    cur = conn.cursor()\n",
    "    try:\n",
    "        cur.execute(query)\n",
    "        print(\"Query ran successfully.\")\n",
    "    except Exception as e:\n",
    "        print(e)\n",
    "    finally:\n",
    "        #be a good citizen and put stuff back the way you found it\n",
    "        conn.autocommit = True \n",
    "    return cur\n"
   ]
  },
  {
   "cell_type": "code",
   "execution_count": 44,
   "metadata": {},
   "outputs": [
    {
     "name": "stdout",
     "output_type": "stream",
     "text": [
      "Connected to Database jupyterdb successfully\n",
      "Query ran successfully.\n",
      "[(1, 2, 3, 4, 5)]\n"
     ]
    }
   ],
   "source": [
    "q = \"SELECT 1,2,3,4,5\"\n",
    "conn = create_server_connection(database=\"jupyterdb\", user=getpass.getuser())\n",
    "cur = execute_query(conn, q)\n",
    "print(cur.fetchall())\n",
    "cur.close()\n",
    "conn.close()"
   ]
  },
  {
   "cell_type": "code",
   "execution_count": 48,
   "metadata": {},
   "outputs": [
    {
     "name": "stdout",
     "output_type": "stream",
     "text": [
      "Connected to Database jupyterdb successfully\n",
      "relation \"doesnotexist\" does not exist\n",
      "LINE 1: SELECT 1,2,3,4,5 FROM doesnotexist\n",
      "                              ^\n",
      "\n"
     ]
    }
   ],
   "source": [
    "q = \"SELECT 1,2,3,4,5 FROM doesnotexist\"\n",
    "conn = create_server_connection(database=\"jupyterdb\", user=getpass.getuser())\n",
    "cur = execute_query(conn, q)\n",
    "cur.close()\n",
    "conn.close()"
   ]
  },
  {
   "cell_type": "code",
   "execution_count": 47,
   "metadata": {},
   "outputs": [],
   "source": []
  },
  {
   "cell_type": "code",
   "execution_count": null,
   "metadata": {},
   "outputs": [],
   "source": []
  }
 ],
 "metadata": {
  "kernelspec": {
   "display_name": "Python 3",
   "language": "python",
   "name": "python3"
  },
  "language_info": {
   "codemirror_mode": {
    "name": "ipython",
    "version": 3
   },
   "file_extension": ".py",
   "mimetype": "text/x-python",
   "name": "python",
   "nbconvert_exporter": "python",
   "pygments_lexer": "ipython3",
   "version": "3.7.7"
  }
 },
 "nbformat": 4,
 "nbformat_minor": 4
}
