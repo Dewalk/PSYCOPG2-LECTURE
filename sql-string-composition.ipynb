{
 "cells": [
  {
   "cell_type": "markdown",
   "metadata": {},
   "source": []
  },
  {
   "cell_type": "markdown",
   "metadata": {},
   "source": [
    "The problem with the query parameters\n",
    "The SQL representation of many data types is often different from their Python string representation. The typical example is with single quotes in strings: in SQL single quotes are used as string literal delimiters, so the ones appearing inside the string itself must be escaped, whereas in Python single quotes can be left unescaped if the string is delimited by double quotes.\n",
    "\n",
    "Because of the difference, sometime subtle, between the data types representations, a naïve approach to query strings composition, such as using Python strings concatenation, is a recipe for terrible problems:\n",
    "\n",
    "https://www.psycopg.org/docs/usage.html#the-problem-with-the-query-parameters"
   ]
  },
  {
   "cell_type": "code",
   "execution_count": null,
   "metadata": {},
   "outputs": [],
   "source": []
  },
  {
   "cell_type": "markdown",
   "metadata": {},
   "source": [
    "https://www.psycopg.org/docs/sql.html\n",
    "psycopg2.sql – SQL string composition¶\n",
    "New in version 2.7.\n",
    "\n",
    "The module contains objects and functions useful to generate SQL dynamically, in a convenient and safe way. SQL identifiers (e.g. names of tables and fields) cannot be passed to the execute() method like query arguments:\n",
    "\n",
    "This is the only way to write effective and safe sql queries from python!\n",
    "\n",
    "SPEND A LOT OF TIME COVERING THIS MODEL IN THE FINAL PRESENTATION"
   ]
  },
  {
   "cell_type": "markdown",
   "metadata": {},
   "source": [
    "Numbers adaptation\n",
    "Python numeric objects int, long, float, Decimal are converted into a PostgreSQL numerical representation:\n",
    "\n",
    ">>> cur.mogrify(\"SELECT %s, %s, %s, %s;\", (10, 10L, 10.0, Decimal(\"10.00\")))\n",
    "'SELECT 10, 10, 10.0, 10.00;'\n",
    "\n",
    "\n",
    "Reading from the database, integer types are converted into int, floating point types are converted into float, numeric/decimal are converted into Decimal."
   ]
  },
  {
   "cell_type": "markdown",
   "metadata": {},
   "source": [
    "Talk about this function\n",
    "\n",
    "cur.mogrify(\"SELECT %s, %s, %s, %s;\", (10, 10L, 10.0, Decimal(\"10.00\")))\n",
    "'SELECT 10, 10, 10.0, 10.00;'"
   ]
  },
  {
   "cell_type": "code",
   "execution_count": 1,
   "metadata": {},
   "outputs": [],
   "source": [
    "import psycopg2, os, getpass\n"
   ]
  },
  {
   "cell_type": "code",
   "execution_count": 2,
   "metadata": {},
   "outputs": [],
   "source": [
    "def create_server_connection(database, user):\n",
    "    conn = None\n",
    "    try:\n",
    "        conn = psycopg2.connect(\n",
    "            database=database,\n",
    "            user=user,\n",
    "        )\n",
    "        print(f\"Connected to Database {database} successfully\")\n",
    "        \n",
    "    except Exception as e:\n",
    "        print(e)\n",
    "\n",
    "    return conn"
   ]
  },
  {
   "cell_type": "code",
   "execution_count": 3,
   "metadata": {},
   "outputs": [],
   "source": [
    "def create_or_drop_database(conn, query):\n",
    "    autocommit = conn.autocommit #preserve the value of autocommit\n",
    "    conn.autocommit = True #MUST BE set to True since Postgresql cannot create a database in a transaction\n",
    "    with conn.cursor() as cur:\n",
    "        try:\n",
    "            cur.execute(query)\n",
    "            print(f\"Query: {query} ran successfully.\")\n",
    "        except Exception as e:\n",
    "            print(e)\n",
    "        finally:\n",
    "            #be a good citizen and put stuff back the way you found it\n",
    "            conn.autocommit = autocommit "
   ]
  },
  {
   "cell_type": "code",
   "execution_count": 15,
   "metadata": {},
   "outputs": [],
   "source": [
    "# let's write an execute query function\n",
    "# we want our function to return a cursor with the results\n",
    "\n",
    "#version 1\n",
    "def execute_query(conn, query):\n",
    "    autocommit = conn.autocommit #preserve the value of autocommit\n",
    "    conn.autocommit = True #MUST BE set to True since Postgresql cannot create a database in a transaction\n",
    "    cur = conn.cursor()\n",
    "    try:\n",
    "        cur.execute(query)\n",
    "        print(f\"Query: {query}ran successfully.\")\n",
    "    except Exception as e:\n",
    "        print(e)\n",
    "    finally:\n",
    "        #be a good citizen and put stuff back the way you found it\n",
    "        conn.autocommit = True \n",
    "    return cur"
   ]
  },
  {
   "cell_type": "code",
   "execution_count": 16,
   "metadata": {},
   "outputs": [
    {
     "name": "stdout",
     "output_type": "stream",
     "text": [
      "Connected to Database jupyterdb successfully\n"
     ]
    }
   ],
   "source": [
    "db, user = \"jupyterdb\", getpass.getuser()\n",
    "conn = create_server_connection(db,user)"
   ]
  },
  {
   "cell_type": "code",
   "execution_count": null,
   "metadata": {},
   "outputs": [],
   "source": []
  },
  {
   "cell_type": "code",
   "execution_count": 6,
   "metadata": {},
   "outputs": [],
   "source": [
    "conn.autocommit = True"
   ]
  },
  {
   "cell_type": "code",
   "execution_count": null,
   "metadata": {},
   "outputs": [],
   "source": [
    "# let's create an authors table in our database"
   ]
  },
  {
   "cell_type": "code",
   "execution_count": 10,
   "metadata": {},
   "outputs": [
    {
     "name": "stdout",
     "output_type": "stream",
     "text": [
      "Query: \n",
      "DROP TABLE IF EXISTS author;\n",
      "CREATE TABLE author(\n",
      "name text,\n",
      "email text\n",
      ");\n",
      "ran successfully.\n"
     ]
    },
    {
     "data": {
      "text/plain": [
       "<cursor object at 0x10d58ae50; closed: 0>"
      ]
     },
     "execution_count": 10,
     "metadata": {},
     "output_type": "execute_result"
    }
   ],
   "source": [
    "query = \"\"\"\n",
    "DROP TABLE IF EXISTS author;\n",
    "\n",
    "CREATE TABLE author(\n",
    "name text,\n",
    "email text\n",
    ");\n",
    "\"\"\"\n",
    "execute_query(conn, query)"
   ]
  },
  {
   "cell_type": "code",
   "execution_count": null,
   "metadata": {},
   "outputs": [],
   "source": []
  },
  {
   "cell_type": "code",
   "execution_count": 12,
   "metadata": {},
   "outputs": [
    {
     "name": "stdout",
     "output_type": "stream",
     "text": [
      "syntax error at or near \"Reilly\"\n",
      "LINE 1: INSERT INTO author (name) VALUES ('O'Reilly');\n",
      "                                             ^\n",
      "\n"
     ]
    }
   ],
   "source": [
    "# DON'T DO THIS\n",
    "\n",
    "SQL = \"INSERT INTO author (name) VALUES ('%s');\" # NEVER DO THIS\n",
    "data = (\"O'Reilly\", )\n",
    "cur = execute_query(conn, SQL % data) # THIS WILL FAIL MISERABLY"
   ]
  },
  {
   "cell_type": "code",
   "execution_count": null,
   "metadata": {},
   "outputs": [],
   "source": []
  },
  {
   "cell_type": "code",
   "execution_count": null,
   "metadata": {},
   "outputs": [],
   "source": [
    "# DO THIS INSTEAD"
   ]
  },
  {
   "cell_type": "code",
   "execution_count": 14,
   "metadata": {},
   "outputs": [],
   "source": [
    "SQL = \"INSERT INTO author (name) VALUES (%s);\" # Note: no quotes\n",
    ">>> data = (\"O'Reilly\", )\n",
    "cur = conn.cursor()\n",
    ">>> cur.execute(SQL, data) # Note: no % operator"
   ]
  },
  {
   "cell_type": "code",
   "execution_count": null,
   "metadata": {},
   "outputs": [],
   "source": [
    "#now let's change our execute_query function accordingly"
   ]
  },
  {
   "cell_type": "code",
   "execution_count": 28,
   "metadata": {},
   "outputs": [],
   "source": [
    "#version 2\n",
    "def execute_query(conn, *query):\n",
    "    autocommit = conn.autocommit #preserve the value of autocommit\n",
    "    conn.autocommit = True #MUST BE set to True since Postgresql cannot create a database in a transaction\n",
    "    cur = conn.cursor()\n",
    "    try:\n",
    "        if query[1]:\n",
    "            cur.execute(*query)\n",
    "            print(f\"Query: {query[0]} with data:{query[1]} ran successfully.\")\n",
    "        else:\n",
    "            cur.execute(query[0])\n",
    "            print(f\"Query: {query[0]} ran successfully.\")\n",
    "    except Exception as e:\n",
    "        print(e)\n",
    "    finally:\n",
    "        #be a good citizen and put stuff back the way you found it\n",
    "        conn.autocommit = True \n",
    "    return cur"
   ]
  },
  {
   "cell_type": "code",
   "execution_count": 29,
   "metadata": {},
   "outputs": [
    {
     "name": "stdout",
     "output_type": "stream",
     "text": [
      "Query: INSERT INTO author (name) VALUES (%s); with data:(\"O'Reilly\",) ran successfully.\n"
     ]
    }
   ],
   "source": [
    "SQL = \"INSERT INTO author (name) VALUES (%s);\" # Note: no quotes\n",
    "data = (\"O'Reilly\", )\n",
    "cur = execute_query(conn, SQL, data)"
   ]
  },
  {
   "cell_type": "code",
   "execution_count": null,
   "metadata": {},
   "outputs": [],
   "source": []
  }
 ],
 "metadata": {
  "kernelspec": {
   "display_name": "Python 3",
   "language": "python",
   "name": "python3"
  },
  "language_info": {
   "codemirror_mode": {
    "name": "ipython",
    "version": 3
   },
   "file_extension": ".py",
   "mimetype": "text/x-python",
   "name": "python",
   "nbconvert_exporter": "python",
   "pygments_lexer": "ipython3",
   "version": "3.7.7"
  }
 },
 "nbformat": 4,
 "nbformat_minor": 4
}
