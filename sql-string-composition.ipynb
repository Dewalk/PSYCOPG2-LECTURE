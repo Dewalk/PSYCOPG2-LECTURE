{
 "cells": [
  {
   "cell_type": "markdown",
   "metadata": {},
   "source": [
    "https://www.psycopg.org/docs/usage.html#the-problem-with-the-query-parameters\n",
    "\n",
    "https://www.psycopg.org/docs/sql.html\n",
    "psycopg2.sql – SQL string composition¶\n",
    "New in version 2.7."
   ]
  },
  {
   "cell_type": "code",
   "execution_count": 2,
   "metadata": {},
   "outputs": [],
   "source": [
    "import psycopg2\n",
    "import os, getpass\n",
    "from psycopg2.sql import SQL, Identifier\n"
   ]
  },
  {
   "cell_type": "code",
   "execution_count": 3,
   "metadata": {},
   "outputs": [],
   "source": [
    "def create_server_connection(database, user):\n",
    "    conn = None\n",
    "    try:\n",
    "        conn = psycopg2.connect(\n",
    "            database=database,\n",
    "            user=user,\n",
    "        )\n",
    "        print(f\"Connected to Database {database} successfully\")\n",
    "        \n",
    "    except Exception as e:\n",
    "        print(e)\n",
    "\n",
    "    return conn"
   ]
  },
  {
   "cell_type": "code",
   "execution_count": 4,
   "metadata": {},
   "outputs": [],
   "source": [
    "def create_or_drop_database(conn, query):\n",
    "    autocommit = conn.autocommit #preserve the value of autocommit\n",
    "    conn.autocommit = True #MUST BE set to True since Postgresql cannot create a database in a transaction\n",
    "    with conn.cursor() as cur:\n",
    "        try:\n",
    "            cur.execute(query)\n",
    "            print(f\"Query: {query} ran successfully.\")\n",
    "        except Exception as e:\n",
    "            print(e)\n",
    "        finally:\n",
    "            #be a good citizen and put stuff back the way you found it\n",
    "            conn.autocommit = autocommit "
   ]
  },
  {
   "cell_type": "code",
   "execution_count": 5,
   "metadata": {},
   "outputs": [],
   "source": [
    "#version 2\n",
    "def execute_query(conn, query):\n",
    "    autocommit = conn.autocommit #preserve the value of autocommit\n",
    "    conn.autocommit = True #MUST BE set to True since Postgresql cannot create a database in a transaction\n",
    "    cur = conn.cursor()\n",
    "    try:\n",
    "        cur.execute(query)\n",
    "        print(f\"Query: {query}ran successfully.\")\n",
    "    except Exception as e:\n",
    "        print(e)\n",
    "    finally:\n",
    "        #be a good citizen and put stuff back the way you found it\n",
    "        conn.autocommit = autocommit \n",
    "    return cur"
   ]
  },
  {
   "cell_type": "code",
   "execution_count": 6,
   "metadata": {},
   "outputs": [
    {
     "name": "stdout",
     "output_type": "stream",
     "text": [
      "Connected to Database jupyterdb successfully\n"
     ]
    }
   ],
   "source": [
    "db, user = \"jupyterdb\", getpass.getuser()\n",
    "conn = create_server_connection(db,user)"
   ]
  },
  {
   "cell_type": "code",
   "execution_count": 7,
   "metadata": {},
   "outputs": [],
   "source": [
    "conn.autocommit = True"
   ]
  },
  {
   "cell_type": "code",
   "execution_count": 8,
   "metadata": {},
   "outputs": [],
   "source": [
    "# let's create an authors table in our database"
   ]
  },
  {
   "cell_type": "code",
   "execution_count": 9,
   "metadata": {},
   "outputs": [
    {
     "name": "stdout",
     "output_type": "stream",
     "text": [
      "Query: \n",
      "DROP TABLE IF EXISTS author;\n",
      "\n",
      "CREATE TABLE author(\n",
      "name text,\n",
      "email text\n",
      ");\n",
      "ran successfully.\n"
     ]
    }
   ],
   "source": [
    "query = \"\"\"\n",
    "DROP TABLE IF EXISTS author;\n",
    "\n",
    "CREATE TABLE author(\n",
    "name text,\n",
    "email text\n",
    ");\n",
    "\"\"\"\n",
    "cur = execute_query(conn, query)\n",
    "cur.close()"
   ]
  },
  {
   "cell_type": "code",
   "execution_count": null,
   "metadata": {},
   "outputs": [],
   "source": []
  },
  {
   "cell_type": "code",
   "execution_count": null,
   "metadata": {},
   "outputs": [],
   "source": []
  },
  {
   "cell_type": "code",
   "execution_count": 10,
   "metadata": {},
   "outputs": [],
   "source": [
    "query = \"INSERT INTO author (name) VALUES (%s);\"\n",
    "data = (\"me\", ) # gotcha: the data argument which is substituted into %s *MUST* BE AN ITERABLE \n",
    "cur = conn.cursor()\n",
    "cur.execute(query, data)\n",
    "cur.close()"
   ]
  },
  {
   "cell_type": "markdown",
   "metadata": {},
   "source": [
    "NOTE: THE ONLY FORMAT STRING IS %s \n",
    "    \n",
    "IT WORKS FOR ALL DATA TYPES!!!!!!!!!!!!!!!!!!!"
   ]
  },
  {
   "cell_type": "code",
   "execution_count": 13,
   "metadata": {},
   "outputs": [
    {
     "name": "stdout",
     "output_type": "stream",
     "text": [
      "[('me', None)]\n"
     ]
    }
   ],
   "source": [
    "query = \"SELECT * FROM author;\"\n",
    "cur = conn.cursor()\n",
    "cur.execute(query)\n",
    "print(cur.fetchall())\n",
    "cur.close()"
   ]
  },
  {
   "cell_type": "code",
   "execution_count": 14,
   "metadata": {},
   "outputs": [],
   "source": [
    "query = \"INSERT INTO author (name, email) VALUES (%s, %s);\"\n",
    "data = (\"John Donne\", \"death@benotproud.com\")\n",
    "cur = conn.cursor()\n",
    "cur.execute(query, data)\n",
    "cur.close()"
   ]
  },
  {
   "cell_type": "code",
   "execution_count": 15,
   "metadata": {},
   "outputs": [
    {
     "name": "stdout",
     "output_type": "stream",
     "text": [
      "[('me', None), ('John Donne', 'death@benotproud.com')]\n"
     ]
    }
   ],
   "source": [
    "query = \"SELECT * FROM author;\"\n",
    "cur = conn.cursor()\n",
    "cur.execute(query)\n",
    "print(cur.fetchall())\n",
    "cur.close()"
   ]
  },
  {
   "cell_type": "code",
   "execution_count": 16,
   "metadata": {},
   "outputs": [],
   "source": [
    "query = \"INSERT INTO author (name, email) VALUES (%s, %s), (%s,%s);\"\n",
    "data = [\"Octavia Butler\", \"kindred@thefutureisnow.com\", \"Alfred Neuman\", \"whatmeworry@worryfree.com\"] #any iterable is fine\n",
    "cur = conn.cursor()\n",
    "cur.execute(query, data)\n",
    "cur.close()"
   ]
  },
  {
   "cell_type": "code",
   "execution_count": 17,
   "metadata": {},
   "outputs": [
    {
     "name": "stdout",
     "output_type": "stream",
     "text": [
      "[('me', None), ('John Donne', 'death@benotproud.com'), ('Octavia Butler', 'kindred@thefutureisnow.com'), ('Alfred Neuman', 'whatmeworry@worryfree.com')]\n"
     ]
    }
   ],
   "source": [
    "query = \"SELECT * FROM author;\"\n",
    "cur = conn.cursor()\n",
    "cur.execute(query)\n",
    "print(cur.fetchall())\n",
    "cur.close()"
   ]
  },
  {
   "cell_type": "code",
   "execution_count": null,
   "metadata": {},
   "outputs": [],
   "source": []
  },
  {
   "cell_type": "code",
   "execution_count": null,
   "metadata": {},
   "outputs": [],
   "source": [
    "#now let's change our execute_query to use data in the second argument of cur.execute()"
   ]
  },
  {
   "cell_type": "code",
   "execution_count": null,
   "metadata": {},
   "outputs": [],
   "source": [
    "#version 4\n",
    "def execute_query(conn, *query):\n",
    "    try:\n",
    "        autocommit = conn.autocommit #preserve the value of autocommit\n",
    "        conn.autocommit = True\n",
    "        cur = conn.cursor()\n",
    "        \n",
    "        if len(query) == 2:\n",
    "            cur.execute(*query)\n",
    "            print(f\"Query: {query[0]} with data:{query[1]} ran successfully.\")\n",
    "        else:\n",
    "            cur.execute(query[0])\n",
    "            print(f\"Query: {query[0]} ran successfully.\")\n",
    "    \n",
    "    except Exception as e:\n",
    "        print(e)\n",
    "    finally:\n",
    "        #put stuff back the way you found it\n",
    "        conn.autocommit = autocommit \n",
    "    return cur"
   ]
  },
  {
   "cell_type": "code",
   "execution_count": null,
   "metadata": {},
   "outputs": [],
   "source": [
    "query = \"INSERT INTO author (name) VALUES (%s);\"\n",
    "data = (\"O'Reilly\", )\n",
    "cur = execute_query(conn, query, data)\n",
    "cur.close()"
   ]
  },
  {
   "cell_type": "code",
   "execution_count": null,
   "metadata": {},
   "outputs": [],
   "source": []
  },
  {
   "cell_type": "code",
   "execution_count": null,
   "metadata": {},
   "outputs": [],
   "source": []
  },
  {
   "cell_type": "code",
   "execution_count": null,
   "metadata": {},
   "outputs": [],
   "source": []
  },
  {
   "cell_type": "markdown",
   "metadata": {},
   "source": [
    "psycopg2.sql – SQL string composition\n",
    "\n",
    "The module contains objects and functions useful to generate SQL dynamically, in a convenient and safe way. SQL identifiers (e.g. names of tables and fields) cannot be passed to the execute() method like query arguments:"
   ]
  },
  {
   "cell_type": "code",
   "execution_count": null,
   "metadata": {},
   "outputs": [],
   "source": [
    "# This will not work\n",
    "cur = conn.cursor()\n",
    "table_name = 'my_table'\n",
    "cur.execute(\"insert into %s values (%s, %s)\", [table_name, 10, 20])\n",
    "cur.close()"
   ]
  },
  {
   "cell_type": "code",
   "execution_count": null,
   "metadata": {},
   "outputs": [],
   "source": [
    "# This is the correct way\n",
    "\n",
    "from psycopg2 import sql\n",
    "cur = conn.cursor()\n",
    "\n",
    "cur.execute(sql.SQL(\"INSERT INTO {} VALUES (%s)\").format(sql.Identifier('author')),[\"herman melville\"])\n",
    "\n",
    "cur.close()"
   ]
  },
  {
   "cell_type": "markdown",
   "metadata": {},
   "source": [
    "1) use the sql.SQL() function, just like you'd use str.format()\n",
    "2) inside the argument of format, pass the table name inside sql.Identifier\n",
    "3) pass the data in the second argument of cur.execute\n"
   ]
  },
  {
   "cell_type": "code",
   "execution_count": null,
   "metadata": {},
   "outputs": [],
   "source": [
    "sql.Identifier('author')"
   ]
  },
  {
   "cell_type": "code",
   "execution_count": null,
   "metadata": {},
   "outputs": [],
   "source": [
    "sql.SQL(\"insert into {} values (%s)\").format(sql.Identifier('author'))"
   ]
  },
  {
   "cell_type": "code",
   "execution_count": null,
   "metadata": {},
   "outputs": [],
   "source": [
    "# gotcha: the data argument which is substituted into %s *MUST* BE AN ITERABLE "
   ]
  },
  {
   "cell_type": "markdown",
   "metadata": {},
   "source": [
    "\n",
    "data = ['herman melville'] in this case"
   ]
  },
  {
   "cell_type": "markdown",
   "metadata": {},
   "source": [
    "cur.execute(sql.SQL(\"INSERT INTO {} VALUES (%s)\").format(sql.Identifier('author')),\n",
    "            [\"herman melville\"]\n",
    "           )"
   ]
  },
  {
   "cell_type": "code",
   "execution_count": null,
   "metadata": {},
   "outputs": [],
   "source": [
    "cur.execute(sql.SQL(\"INSERT INTO {} VALUES (%s)\").format(sql.Identifier('author')), [\"herman melville\"]\n",
    "           )"
   ]
  },
  {
   "cell_type": "code",
   "execution_count": null,
   "metadata": {},
   "outputs": [],
   "source": [
    "cur = conn.cursor()\n",
    "\n",
    "cur.execute(sql.SQL(\"INSERT INTO {} VALUES (%s, %s)\").format(sql.Identifier('author')),[\"edgar allan poe\",\"raven1845@gmail.com\" ])\n",
    "\n",
    "cur.close()"
   ]
  },
  {
   "cell_type": "code",
   "execution_count": null,
   "metadata": {},
   "outputs": [],
   "source": [
    "db, user = \"jupyterdb\", getpass.getuser()\n",
    "conn = create_server_connection(db,user)"
   ]
  },
  {
   "cell_type": "code",
   "execution_count": null,
   "metadata": {},
   "outputs": [],
   "source": [
    "query = \"\"\"\n",
    "DROP TABLE IF EXISTS author;\n",
    "\n",
    "CREATE TABLE author(\n",
    "name text,\n",
    "email text\n",
    ");\n",
    "\"\"\"\n",
    "cur = execute_query(conn, query)\n",
    "cur.close()"
   ]
  },
  {
   "cell_type": "code",
   "execution_count": null,
   "metadata": {},
   "outputs": [],
   "source": [
    "query, data = sql.SQL(\"INSERT INTO {} VALUES (%s, %s)\").format(sql.Identifier('author')), [\"edgar allan poe\",\"raven1845@gmail.com\" ]\n",
    "cur = execute_query(conn, query, data)\n",
    "cur.close()"
   ]
  },
  {
   "cell_type": "code",
   "execution_count": null,
   "metadata": {},
   "outputs": [],
   "source": [
    "query = \"SELECT * FROM author;\"\n",
    "cur = execute_query(conn, query)\n",
    "cur.fetchall()\n",
    "cur.close()"
   ]
  },
  {
   "cell_type": "code",
   "execution_count": null,
   "metadata": {},
   "outputs": [],
   "source": []
  }
 ],
 "metadata": {
  "kernelspec": {
   "display_name": "Python 3",
   "language": "python",
   "name": "python3"
  },
  "language_info": {
   "codemirror_mode": {
    "name": "ipython",
    "version": 3
   },
   "file_extension": ".py",
   "mimetype": "text/x-python",
   "name": "python",
   "nbconvert_exporter": "python",
   "pygments_lexer": "ipython3",
   "version": "3.7.7"
  }
 },
 "nbformat": 4,
 "nbformat_minor": 4
}
