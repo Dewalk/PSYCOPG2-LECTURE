{
 "cells": [
  {
   "cell_type": "markdown",
   "metadata": {},
   "source": []
  },
  {
   "cell_type": "markdown",
   "metadata": {},
   "source": [
    "The problem with the query parameters\n",
    "The SQL representation of many data types is often different from their Python string representation. The typical example is with single quotes in strings: in SQL single quotes are used as string literal delimiters, so the ones appearing inside the string itself must be escaped, whereas in Python single quotes can be left unescaped if the string is delimited by double quotes.\n",
    "\n",
    "Because of the difference, sometime subtle, between the data types representations, a naïve approach to query strings composition, such as using Python strings concatenation, is a recipe for terrible problems:\n",
    "\n",
    "https://www.psycopg.org/docs/usage.html#the-problem-with-the-query-parameters"
   ]
  },
  {
   "cell_type": "code",
   "execution_count": null,
   "metadata": {},
   "outputs": [],
   "source": []
  },
  {
   "cell_type": "markdown",
   "metadata": {},
   "source": [
    "https://www.psycopg.org/docs/sql.html\n",
    "psycopg2.sql – SQL string composition¶\n",
    "New in version 2.7.\n",
    "\n",
    "The module contains objects and functions useful to generate SQL dynamically, in a convenient and safe way. SQL identifiers (e.g. names of tables and fields) cannot be passed to the execute() method like query arguments:\n",
    "\n",
    "This is the only way to write effective and safe sql queries from python!\n",
    "\n",
    "SPEND A LOT OF TIME COVERING THIS MODEL IN THE FINAL PRESENTATION"
   ]
  },
  {
   "cell_type": "markdown",
   "metadata": {},
   "source": [
    "Numbers adaptation\n",
    "Python numeric objects int, long, float, Decimal are converted into a PostgreSQL numerical representation:\n",
    "\n",
    ">>> cur.mogrify(\"SELECT %s, %s, %s, %s;\", (10, 10L, 10.0, Decimal(\"10.00\")))\n",
    "'SELECT 10, 10, 10.0, 10.00;'\n",
    "\n",
    "\n",
    "Reading from the database, integer types are converted into int, floating point types are converted into float, numeric/decimal are converted into Decimal."
   ]
  },
  {
   "cell_type": "markdown",
   "metadata": {},
   "source": [
    "Talk about this function\n",
    "\n",
    "cur.mogrify(\"SELECT %s, %s, %s, %s;\", (10, 10L, 10.0, Decimal(\"10.00\")))\n",
    "'SELECT 10, 10, 10.0, 10.00;'"
   ]
  }
 ],
 "metadata": {
  "kernelspec": {
   "display_name": "Python 3",
   "language": "python",
   "name": "python3"
  },
  "language_info": {
   "codemirror_mode": {
    "name": "ipython",
    "version": 3
   },
   "file_extension": ".py",
   "mimetype": "text/x-python",
   "name": "python",
   "nbconvert_exporter": "python",
   "pygments_lexer": "ipython3",
   "version": "3.7.7"
  }
 },
 "nbformat": 4,
 "nbformat_minor": 4
}
