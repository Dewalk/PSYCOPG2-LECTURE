{
 "cells": [
  {
   "cell_type": "markdown",
   "metadata": {},
   "source": [
    "https://www.psycopg.org/docs/usage.html#adaptation-of-python-values-to-sql-types"
   ]
  },
  {
   "cell_type": "markdown",
   "metadata": {},
   "source": [
    "Adaptation of Python values to SQL types\n",
    "Many standard Python types are adapted into SQL and returned as Python objects when a query is executed.\n",
    "\n",
    "The following table shows the default mapping between Python and PostgreSQL types:\n",
    "\n",
    "Python\tPostgreSQL\tSee also\n",
    "None\tNULL\tConstants adaptation\n",
    "bool\tbool\n",
    "float\t\n",
    "real\n",
    "double\n",
    "Numbers adaptation\n",
    "int\n",
    "long\n",
    "smallint\n",
    "integer\n",
    "bigint\n",
    "Decimal\tnumeric\n",
    "str\n",
    "unicode\n",
    "varchar\n",
    "text\n",
    "Strings adaptation\n",
    "buffer\n",
    "memoryview\n",
    "bytearray\n",
    "bytes\n",
    "Buffer protocol\n",
    "bytea\tBinary adaptation\n",
    "date\tdate\tDate/Time objects adaptation\n",
    "time\t\n",
    "time\n",
    "timetz\n",
    "datetime\t\n",
    "timestamp\n",
    "timestamptz\n",
    "timedelta\tinterval\n",
    "list\tARRAY\tLists adaptation\n",
    "tuple\n",
    "namedtuple\n",
    "Composite types\n",
    "IN syntax\n",
    "Tuples adaptation\n",
    "Composite types casting\n",
    "dict\thstore\tHstore data type\n",
    "Psycopg’s Range\trange\tRange data types\n",
    "Anything™\tjson\tJSON adaptation\n",
    "UUID\tuuid\tUUID data type\n",
    "ipaddress objects\t\n",
    "inet\n",
    "cidr\n",
    "Networking data types\n",
    "The mapping is fairly customizable: see Adapting new Python types to SQL syntax and Type casting of SQL types into Python objects. You can also find a few other specialized adapters in the psycopg2.extras module."
   ]
  }
 ],
 "metadata": {
  "kernelspec": {
   "display_name": "Python 3",
   "language": "python",
   "name": "python3"
  },
  "language_info": {
   "codemirror_mode": {
    "name": "ipython",
    "version": 3
   },
   "file_extension": ".py",
   "mimetype": "text/x-python",
   "name": "python",
   "nbconvert_exporter": "python",
   "pygments_lexer": "ipython3",
   "version": "3.7.7"
  }
 },
 "nbformat": 4,
 "nbformat_minor": 4
}
