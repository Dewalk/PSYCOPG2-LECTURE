{
 "cells": [
  {
   "cell_type": "markdown",
   "metadata": {},
   "source": [
    "REMEMBER SQL is way faster than python!\n",
    "\n",
    "Learn how to do whatever manipulations you want to do inside sql. DO EVERYTHING YOU CAN DO IN SQL BEFORE EXTRACTING THE DATA"
   ]
  },
  {
   "cell_type": "code",
   "execution_count": null,
   "metadata": {},
   "outputs": [],
   "source": [
    "# New execute_values method in Psycopg 2.7:\n",
    "\n",
    "data = [(1,'x'), (2,'y')]\n",
    "insert_query = 'insert into t (a, b) values %s'\n",
    "psycopg2.extras.execute_values (\n",
    "    cursor, insert_query, data, template=None, page_size=100\n",
    ")"
   ]
  },
  {
   "cell_type": "markdown",
   "metadata": {},
   "source": [
    "THE BELOW IS VERY IMPORTANT¶\n",
    "https://stackoverflow.com/questions/8134602/psycopg2-insert-multiple-rows-with-one-query\n",
    "\n",
    "https://www.psycopg.org/docs/extras.html#psycopg2.extras.execute_values"
   ]
  },
  {
   "cell_type": "markdown",
   "metadata": {},
   "source": [
    "https://www.sqlshack.com/introduction-to-sqlalchemy-in-pandas-dataframe/\n",
    "\n",
    "https://hackingandslacking.com/connecting-pandas-to-a-database-with-sqlalchemy-b6a187675c4a\n",
    "\n",
    "https://hackersandslackers.com/connecting-pandas-to-a-sql-database-with-sqlalchemy/\n",
    "\n",
    "https://pythontic.com/pandas/serialization/postgresql\n",
    "\n",
    "https://gist.github.com/kunanit/eb0723eef653788395bb41c661c1fa86\n",
    "\n",
    "https://www.codementor.io/@bruce3557/graceful-data-ingestion-with-sqlalchemy-and-pandas-pft7ddcy6\n",
    "\n",
    "https://naysan.ca/2020/05/09/pandas-to-postgresql-using-psycopg2-bulk-insert-performance-benchmark/\n",
    "\n",
    "https://github.com/NaysanSaran/pandas2postgresql\n",
    "\n",
    "https://gist.github.com/kunanit/eb0723eef653788395bb41c661c1fa86"
   ]
  },
  {
   "cell_type": "markdown",
   "metadata": {},
   "source": [
    "https://www.psycopg.org/docs/cursor.html\n",
    "\n",
    "### When should I save and re-use a **cursor** as opposed to creating a new one as needed? \n",
    "\n",
    "Cursors are lightweight objects and creating lots of them should not pose any kind of problem. But note that cursors used to fetch result sets will cache the data and use memory in proportion to the result set size. Our suggestion is to almost always create a new cursor and dispose old ones as soon as the data is not required anymore (call close() on them.) The only exception are tight loops where one usually use the same cursor for a whole bunch of INSERTs or UPDATEs. \n",
    "\n",
    "\n",
    "### When should I save and re-use a **connection** as opposed to creating a new one as needed? \n",
    "\n",
    "Creating a connection can be slow (think of SSL over TCP) so the best practice is to create a single connection and keep it open as long as required. It is also good practice to rollback or commit frequently (even after a single SELECT statement) to make sure the backend is never left “idle in transaction”. "
   ]
  },
  {
   "cell_type": "markdown",
   "metadata": {},
   "source": [
    "https://www.psycopg.org/docs/connection.html#the-connection-class\n",
    "\n",
    "Best practices When should I save and re-use a cursor as opposed to creating a new one as needed? Cursors are lightweight objects and creating lots of them should not pose any kind of problem. But note that cursors used to fetch result sets will cache the data and use memory in proportion to the result set size. Our suggestion is to almost always create a new cursor and dispose old ones as soon as the data is not required anymore (call close() on them.) The only exception are tight loops where one usually use the same cursor for a whole bunch of INSERTs or UPDATEs. When should I save and re-use a connection as opposed to creating a new one as needed? Creating a connection can be slow (think of SSL over TCP) so the best practice is to create a single connection and keep it open as long as required. It is also good practice to rollback or commit frequently (even after a single SELECT statement) to make sure the backend is never left “idle in transaction”. See also psycopg2.pool for lightweight connection pooling."
   ]
  },
  {
   "cell_type": "markdown",
   "metadata": {},
   "source": [
    "https://www.psycopg.org/docs/extensions.html psycopg2.extensions – Extensions to the DB API¶ The module contains a few objects and function extending the minimum set of functionalities defined by the DB API 2.0.\n",
    "\n",
    "​\n",
    "https://www.psycopg.org/docs/extras.html#connection-and-cursor-subclasses A few objects that change the way the results are returned by the cursor or modify the object behavior in some other way. Typically cursor subclasses are passed as cursor_factory argument to connect() so that the connection’s cursor() method will generate objects of this class. Alternatively a cursor subclass can be used one-off by passing it as the cursor_factory argument to the cursor() method.\n",
    "\n",
    "If you want to use a connection subclass you can pass it as the connection_factory argument of the connect() function."
   ]
  },
  {
   "cell_type": "markdown",
   "metadata": {},
   "source": [
    "https://www.psycopg.org/docs/extensions.html psycopg2.extensions – Extensions to the DB API¶ The module contains a few objects and function extending the minimum set of functionalities defined by the DB API 2.0.\n",
    "\n",
    "​\n",
    "https://www.psycopg.org/docs/extras.html#connection-and-cursor-subclasses A few objects that change the way the results are returned by the cursor or modify the object behavior in some other way. Typically cursor subclasses are passed as cursor_factory argument to connect() so that the connection’s cursor() method will generate objects of this class. Alternatively a cursor subclass can be used one-off by passing it as the cursor_factory argument to the cursor() method.\n",
    "\n",
    "If you want to use a connection subclass you can pass it as the connection_factory argument of the connect() function."
   ]
  },
  {
   "cell_type": "markdown",
   "metadata": {},
   "source": [
    "https://www.psycopg.org/docs/extras.html#fast-exec"
   ]
  },
  {
   "cell_type": "markdown",
   "metadata": {},
   "source": [
    "\n",
    "psycopg2 extras module https://www.psycopg.org/docs/extras.html"
   ]
  },
  {
   "cell_type": "markdown",
   "metadata": {},
   "source": [
    "https://www.psycopg.org/docs/usage.html#using-copy-to-and-copy-from"
   ]
  },
  {
   "cell_type": "markdown",
   "metadata": {},
   "source": [
    "https://www.psycopg.org/docs/usage.html#adaptation-of-python-values-to-sql-types\n",
    "\n",
    "Adaptation of Python values to SQL types Many standard Python types are adapted into SQL and returned as Python objects when a query is executed.\n",
    "\n",
    "The following table shows the default mapping between Python and PostgreSQL types:\n",
    "\n",
    "Python PostgreSQL See also None NULL Constants adaptation bool bool float\n",
    "real double Numbers adaptation int long smallint integer bigint Decimal numeric str unicode varchar text Strings adaptation buffer memoryview bytearray bytes Buffer protocol bytea Binary adaptation date date Date/Time objects adaptation time\n",
    "time timetz datetime\n",
    "timestamp timestamptz timedelta interval list ARRAY Lists adaptation tuple namedtuple Composite types IN syntax Tuples adaptation Composite types casting dict hstore Hstore data type Psycopg’s Range range Range data types Anything™ json JSON adaptation UUID uuid UUID data type ipaddress objects\n",
    "inet cidr Networking data types The mapping is fairly customizable: see Adapting new Python types to SQL syntax and Type casting of SQL types into Python objects. You can also find a few other specialized adapters in the psycopg2.extras module."
   ]
  },
  {
   "cell_type": "markdown",
   "metadata": {},
   "source": [
    "Adapting new Python types to SQL syntax https://www.psycopg.org/docs/advanced.html#adapting-new-python-types-to-sql-syntax\n",
    "\n",
    "Any Python class or type can be adapted to an SQL string. Adaptation mechanism is similar to the Object Adaptation proposed in the PEP 246 and is exposed by the psycopg2.extensions.adapt() function.\n",
    "\n",
    "Type casting of SQL types into Python objects https://www.psycopg.org/docs/advanced.html#type-casting-of-sql-types-into-python-objects\n",
    "\n",
    "PostgreSQL objects read from the database can be adapted to Python objects through an user-defined adapting function. An adapter function takes two arguments: the object string representation as returned by PostgreSQL and the cursor currently being read, and should return a new Python object. For example, the following function parses the PostgreSQL point representation into the previously defined Point class:\n",
    "\n",
    "Why does cursor.execute() raise the exception can’t adapt? Psycopg converts Python objects in a SQL string representation by looking at the object class. The exception is raised when you are trying to pass as query parameter an object for which there is no adapter registered for its class. See Adapting new Python types to SQL syntax for informations. https://www.psycopg.org/docs/faq.html#problems-with-type-conversions"
   ]
  },
  {
   "cell_type": "markdown",
   "metadata": {},
   "source": [
    "https://www.psycopg.org/docs/usage.html#transactions-control\n",
    "\n",
    "In Psycopg transactions are handled by the connection class. By default, the first time a command is sent to the database (using one of the cursors created by the connection), a new transaction is created. The following database commands will be executed in the context of the same transaction – not only the commands issued by the first cursor, but the ones issued by all the cursors created by the same connection. Should any command fail, the transaction will be aborted and no further command will be executed until a call to the rollback() method.\n",
    "\n",
    "The connection is responsible for terminating its transaction, calling either the commit() or rollback() method. Committed changes are immediately made persistent in the database. If the connection is closed (using the close() method) or destroyed (using del or by letting it fall out of scope) while a transaction is in progress, the server will discard the transaction. However doing so is not advisable: middleware such as PgBouncer may see the connection closed uncleanly and dispose of it.\n",
    "\n",
    "It is possible to set the connection in autocommit mode: this way all the commands executed will be immediately committed and no rollback is possible. A few commands (e.g. CREATE DATABASE, VACUUM, CALL on stored procedures using transaction control…) require to be run outside any transaction: in order to be able to run these commands from Psycopg, the connection must be in autocommit mode: you can use the autocommit property.\n",
    "\n",
    "Warning By default, any query execution, including a simple SELECT will start a transaction: for long-running programs, if no further action is taken, the session will remain “idle in transaction”, an undesirable condition for several reasons (locks are held by the session, tables bloat…). For long lived scripts, either ensure to terminate a transaction as soon as possible or use an autocommit connection."
   ]
  },
  {
   "cell_type": "code",
   "execution_count": null,
   "metadata": {},
   "outputs": [],
   "source": []
  },
  {
   "cell_type": "code",
   "execution_count": null,
   "metadata": {},
   "outputs": [],
   "source": []
  }
 ],
 "metadata": {
  "kernelspec": {
   "display_name": "Python 3",
   "language": "python",
   "name": "python3"
  },
  "language_info": {
   "codemirror_mode": {
    "name": "ipython",
    "version": 3
   },
   "file_extension": ".py",
   "mimetype": "text/x-python",
   "name": "python",
   "nbconvert_exporter": "python",
   "pygments_lexer": "ipython3",
   "version": "3.7.9"
  }
 },
 "nbformat": 4,
 "nbformat_minor": 4
}
