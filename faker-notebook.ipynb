{
 "cells": [
  {
   "cell_type": "code",
   "execution_count": null,
   "metadata": {},
   "outputs": [],
   "source": [
    "#!conda install Faker -y"
   ]
  },
  {
   "cell_type": "code",
   "execution_count": 1,
   "metadata": {},
   "outputs": [],
   "source": [
    "import psycopg2\n",
    "import os, getpass\n",
    "from faker import Faker"
   ]
  },
  {
   "cell_type": "markdown",
   "metadata": {},
   "source": [
    "Python Faker tutorial shows how to generate fake data in Python with Faker package. We use the joke2k/faker library.\n",
    "http://zetcode.com/python/faker/"
   ]
  },
  {
   "cell_type": "code",
   "execution_count": 2,
   "metadata": {},
   "outputs": [],
   "source": [
    "conn = psycopg2.connect(database=\"jupyterdb\", user=getpass.getuser()) #create the database before doing thisa\n",
    "cur = conn.cursor()"
   ]
  },
  {
   "cell_type": "code",
   "execution_count": 7,
   "metadata": {},
   "outputs": [],
   "source": [
    "conn.autocommit = True  # make ever time you execute a single database transaction."
   ]
  },
  {
   "cell_type": "code",
   "execution_count": 5,
   "metadata": {},
   "outputs": [],
   "source": [
    "cur.execute(\n",
    "    \"\"\"\n",
    "    DROP TABLE IF EXISTS psycopg_test;\n",
    "    CREATE TABLE psycopg_test (id serial PRIMARY KEY, name text, email text);\n",
    "    \"\"\")"
   ]
  },
  {
   "cell_type": "code",
   "execution_count": 6,
   "metadata": {},
   "outputs": [],
   "source": [
    "cur.execute(\"INSERT INTO psycopg_test (name, email) VALUES (%s, %s)\",('sean', 'sean.reed@galvanize.com') )"
   ]
  },
  {
   "cell_type": "code",
   "execution_count": 8,
   "metadata": {},
   "outputs": [],
   "source": [
    "cur.execute(\"SELECT * FROM psycopg_test;\")"
   ]
  },
  {
   "cell_type": "code",
   "execution_count": 10,
   "metadata": {},
   "outputs": [
    {
     "data": {
      "text/plain": [
       "(1, 'sean', 'sean.reed@galvanize.com')"
      ]
     },
     "execution_count": 10,
     "metadata": {},
     "output_type": "execute_result"
    }
   ],
   "source": [
    "cur.fetchone()"
   ]
  },
  {
   "cell_type": "code",
   "execution_count": null,
   "metadata": {},
   "outputs": [],
   "source": [
    "cur.fetchone() #None. Cursor has reached the end. No more values to return."
   ]
  },
  {
   "cell_type": "code",
   "execution_count": null,
   "metadata": {},
   "outputs": [],
   "source": []
  },
  {
   "cell_type": "code",
   "execution_count": 11,
   "metadata": {},
   "outputs": [],
   "source": [
    "cur.scroll(0,'absolute')"
   ]
  },
  {
   "cell_type": "code",
   "execution_count": 12,
   "metadata": {},
   "outputs": [
    {
     "data": {
      "text/plain": [
       "(1, 'sean', 'sean.reed@galvanize.com')"
      ]
     },
     "execution_count": 12,
     "metadata": {},
     "output_type": "execute_result"
    }
   ],
   "source": [
    "cur.fetchone()"
   ]
  },
  {
   "cell_type": "code",
   "execution_count": 13,
   "metadata": {},
   "outputs": [],
   "source": [
    "cur.fetchone() #None"
   ]
  },
  {
   "cell_type": "code",
   "execution_count": null,
   "metadata": {},
   "outputs": [],
   "source": []
  },
  {
   "cell_type": "code",
   "execution_count": null,
   "metadata": {},
   "outputs": [],
   "source": [
    "#conn.rollback()"
   ]
  },
  {
   "cell_type": "code",
   "execution_count": null,
   "metadata": {},
   "outputs": [],
   "source": [
    "conn.autocommit = True"
   ]
  },
  {
   "cell_type": "code",
   "execution_count": 14,
   "metadata": {},
   "outputs": [
    {
     "data": {
      "text/plain": [
       "[('Dr. Sarah Drake', 'wagnerjohnathan@fox.org'),\n",
       " ('Rachel Simon', 'virginiamartin@yahoo.com'),\n",
       " ('Miguel Baker', 'david44@rodriguez-simon.biz'),\n",
       " ('Clayton Woodard', 'jefferyroberts@burton.com'),\n",
       " ('Shannon Hall', 'mitchellkathleen@gmail.com'),\n",
       " ('Terrence Anderson', 'moranstephanie@hotmail.com'),\n",
       " ('Timothy Harper', 'marybell@hotmail.com'),\n",
       " ('James Rivas', 'snowjulie@gmail.com'),\n",
       " ('Tracey Knight', 'daniellemoore@wells.info'),\n",
       " ('Ann Carter', 'tylerwilliamson@frazier.com'),\n",
       " ('Jennifer Holmes', 'kenneth37@massey.com'),\n",
       " ('Julie Thomas', 'dayalison@cox-nelson.info'),\n",
       " ('Megan Garner', 'jamesgilbert@anderson.com'),\n",
       " ('Matthew Manning', 'zkline@gmail.com'),\n",
       " ('Janice Waller', 'rickysmith@yahoo.com'),\n",
       " ('Amy Beck', 'mcintyreaaron@mills.com'),\n",
       " ('John Jacobson', 'william14@dixon.com'),\n",
       " ('Tamara Strickland', 'ybeck@gmail.com'),\n",
       " ('Michael Kane', 'akirby@romero-rose.info'),\n",
       " ('Sandra Taylor', 'douglas06@james.com')]"
      ]
     },
     "execution_count": 14,
     "metadata": {},
     "output_type": "execute_result"
    }
   ],
   "source": [
    "fake_data = Faker()\n",
    "\n",
    "fake = [(fake_data.name(), fake_data.email()) for _ in range(20)]\n",
    "\n",
    "fake"
   ]
  },
  {
   "cell_type": "code",
   "execution_count": null,
   "metadata": {},
   "outputs": [],
   "source": [
    "# WITH BLOCK. BUT NOTICE, IT DOES NOT CLOSE THE CONNECTION!"
   ]
  },
  {
   "cell_type": "code",
   "execution_count": 15,
   "metadata": {},
   "outputs": [],
   "source": [
    "with conn:\n",
    "    cur.execute(\"INSERT INTO psycopg_test (name, email) VALUES (%s, %s)\",(fake[0][0], fake[0][1]))"
   ]
  },
  {
   "cell_type": "code",
   "execution_count": 16,
   "metadata": {},
   "outputs": [
    {
     "data": {
      "text/plain": [
       "(1, 'sean', 'sean.reed@galvanize.com')"
      ]
     },
     "execution_count": 16,
     "metadata": {},
     "output_type": "execute_result"
    }
   ],
   "source": [
    "cur.execute(\"SELECT * FROM psycopg_test;\")\n",
    "cur.fetchone()"
   ]
  },
  {
   "cell_type": "code",
   "execution_count": 17,
   "metadata": {},
   "outputs": [
    {
     "data": {
      "text/plain": [
       "(2, 'Dr. Sarah Drake', 'wagnerjohnathan@fox.org')"
      ]
     },
     "execution_count": 17,
     "metadata": {},
     "output_type": "execute_result"
    }
   ],
   "source": [
    "cur.fetchone()"
   ]
  },
  {
   "cell_type": "code",
   "execution_count": 18,
   "metadata": {},
   "outputs": [],
   "source": [
    "cur.fetchone() #None"
   ]
  },
  {
   "cell_type": "code",
   "execution_count": 19,
   "metadata": {},
   "outputs": [],
   "source": [
    "q = \"INSERT INTO psycopg_test (name, email) VALUES (%s, %s)\"\n",
    "# This works, but don't do multiple inserts this way IRL.\n",
    "with conn:\n",
    "    for item in fake:\n",
    "            cur.execute(q,(item[0], item[1]))"
   ]
  },
  {
   "cell_type": "code",
   "execution_count": null,
   "metadata": {},
   "outputs": [],
   "source": []
  },
  {
   "cell_type": "code",
   "execution_count": null,
   "metadata": {},
   "outputs": [],
   "source": [
    "cur.execute(\"SELECT * FROM psycopg_test;\")\n",
    "cur.fetchall()"
   ]
  },
  {
   "cell_type": "code",
   "execution_count": null,
   "metadata": {},
   "outputs": [],
   "source": [
    "fake_data.name(), fake_data.email()"
   ]
  },
  {
   "cell_type": "code",
   "execution_count": null,
   "metadata": {},
   "outputs": [],
   "source": [
    "# This works, but don't do this IRL.\n",
    "with conn:\n",
    "    for _ in range(5):\n",
    "            cur.execute(\"INSERT INTO psycopg_test (name, email) VALUES (%s, %s)\",(fake_data.name(), fake_data.email()))"
   ]
  },
  {
   "cell_type": "code",
   "execution_count": null,
   "metadata": {},
   "outputs": [],
   "source": [
    "#The second argument of the cur.execute command protects us from basic SQL injection"
   ]
  },
  {
   "cell_type": "code",
   "execution_count": null,
   "metadata": {},
   "outputs": [],
   "source": []
  },
  {
   "cell_type": "code",
   "execution_count": 20,
   "metadata": {},
   "outputs": [
    {
     "data": {
      "text/plain": [
       "['__class__',\n",
       " '__delattr__',\n",
       " '__dir__',\n",
       " '__doc__',\n",
       " '__enter__',\n",
       " '__eq__',\n",
       " '__exit__',\n",
       " '__format__',\n",
       " '__ge__',\n",
       " '__getattribute__',\n",
       " '__gt__',\n",
       " '__hash__',\n",
       " '__init__',\n",
       " '__init_subclass__',\n",
       " '__iter__',\n",
       " '__le__',\n",
       " '__lt__',\n",
       " '__ne__',\n",
       " '__new__',\n",
       " '__next__',\n",
       " '__reduce__',\n",
       " '__reduce_ex__',\n",
       " '__repr__',\n",
       " '__setattr__',\n",
       " '__sizeof__',\n",
       " '__str__',\n",
       " '__subclasshook__',\n",
       " 'arraysize',\n",
       " 'binary_types',\n",
       " 'callproc',\n",
       " 'cast',\n",
       " 'close',\n",
       " 'closed',\n",
       " 'connection',\n",
       " 'copy_expert',\n",
       " 'copy_from',\n",
       " 'copy_to',\n",
       " 'description',\n",
       " 'execute',\n",
       " 'executemany',\n",
       " 'fetchall',\n",
       " 'fetchmany',\n",
       " 'fetchone',\n",
       " 'itersize',\n",
       " 'lastrowid',\n",
       " 'mogrify',\n",
       " 'name',\n",
       " 'nextset',\n",
       " 'pgresult_ptr',\n",
       " 'query',\n",
       " 'row_factory',\n",
       " 'rowcount',\n",
       " 'rownumber',\n",
       " 'scroll',\n",
       " 'scrollable',\n",
       " 'setinputsizes',\n",
       " 'setoutputsize',\n",
       " 'statusmessage',\n",
       " 'string_types',\n",
       " 'typecaster',\n",
       " 'tzinfo_factory',\n",
       " 'withhold']"
      ]
     },
     "execution_count": 20,
     "metadata": {},
     "output_type": "execute_result"
    }
   ],
   "source": [
    "dir(cur)"
   ]
  },
  {
   "cell_type": "code",
   "execution_count": 25,
   "metadata": {},
   "outputs": [],
   "source": [
    "#By default, cursors are client side cursors. Naming a cursor is only applicable if you do a server side cursor. \n",
    "cur.name # None. "
   ]
  },
  {
   "cell_type": "markdown",
   "metadata": {},
   "source": [
    "### what does cur.mogrify() do?"
   ]
  },
  {
   "cell_type": "code",
   "execution_count": null,
   "metadata": {},
   "outputs": [],
   "source": []
  },
  {
   "cell_type": "code",
   "execution_count": 27,
   "metadata": {},
   "outputs": [
    {
     "data": {
      "text/plain": [
       "b'INSERT INTO psycopg_test (name, email) VALUES (%s, %s)'"
      ]
     },
     "execution_count": 27,
     "metadata": {},
     "output_type": "execute_result"
    }
   ],
   "source": [
    "q = \"INSERT INTO psycopg_test (name, email) VALUES (%s, %s)\"\n",
    "cur.mogrify(q)"
   ]
  },
  {
   "cell_type": "code",
   "execution_count": 29,
   "metadata": {},
   "outputs": [],
   "source": [
    "data = (fake_data.name(), fake_data.email())"
   ]
  },
  {
   "cell_type": "code",
   "execution_count": 30,
   "metadata": {},
   "outputs": [
    {
     "data": {
      "text/plain": [
       "b\"INSERT INTO psycopg_test (name, email) VALUES ('Peter Vazquez', 'emilygarza@black.info')\""
      ]
     },
     "execution_count": 30,
     "metadata": {},
     "output_type": "execute_result"
    }
   ],
   "source": [
    "cur.mogrify(q,data)"
   ]
  },
  {
   "cell_type": "code",
   "execution_count": null,
   "metadata": {},
   "outputs": [],
   "source": []
  },
  {
   "cell_type": "code",
   "execution_count": 31,
   "metadata": {},
   "outputs": [
    {
     "data": {
      "text/plain": [
       "[(1, 'sean', 'sean.reed@galvanize.com'),\n",
       " (2, 'Dr. Sarah Drake', 'wagnerjohnathan@fox.org'),\n",
       " (3, 'Dr. Sarah Drake', 'wagnerjohnathan@fox.org'),\n",
       " (4, 'Rachel Simon', 'virginiamartin@yahoo.com'),\n",
       " (5, 'Miguel Baker', 'david44@rodriguez-simon.biz'),\n",
       " (6, 'Clayton Woodard', 'jefferyroberts@burton.com'),\n",
       " (7, 'Shannon Hall', 'mitchellkathleen@gmail.com'),\n",
       " (8, 'Terrence Anderson', 'moranstephanie@hotmail.com'),\n",
       " (9, 'Timothy Harper', 'marybell@hotmail.com'),\n",
       " (10, 'James Rivas', 'snowjulie@gmail.com'),\n",
       " (11, 'Tracey Knight', 'daniellemoore@wells.info'),\n",
       " (12, 'Ann Carter', 'tylerwilliamson@frazier.com'),\n",
       " (13, 'Jennifer Holmes', 'kenneth37@massey.com'),\n",
       " (14, 'Julie Thomas', 'dayalison@cox-nelson.info'),\n",
       " (15, 'Megan Garner', 'jamesgilbert@anderson.com'),\n",
       " (16, 'Matthew Manning', 'zkline@gmail.com'),\n",
       " (17, 'Janice Waller', 'rickysmith@yahoo.com'),\n",
       " (18, 'Amy Beck', 'mcintyreaaron@mills.com'),\n",
       " (19, 'John Jacobson', 'william14@dixon.com'),\n",
       " (20, 'Tamara Strickland', 'ybeck@gmail.com'),\n",
       " (21, 'Michael Kane', 'akirby@romero-rose.info'),\n",
       " (22, 'Sandra Taylor', 'douglas06@james.com')]"
      ]
     },
     "execution_count": 31,
     "metadata": {},
     "output_type": "execute_result"
    }
   ],
   "source": [
    "cur.execute(\"SELECT * FROM psycopg_test;\")\n",
    "cur.fetchall()"
   ]
  },
  {
   "cell_type": "code",
   "execution_count": 32,
   "metadata": {},
   "outputs": [
    {
     "data": {
      "text/plain": [
       "b'SELECT * FROM psycopg_test;'"
      ]
     },
     "execution_count": 32,
     "metadata": {},
     "output_type": "execute_result"
    }
   ],
   "source": [
    "cur.query"
   ]
  },
  {
   "cell_type": "code",
   "execution_count": null,
   "metadata": {},
   "outputs": [],
   "source": []
  },
  {
   "cell_type": "markdown",
   "metadata": {},
   "source": [
    "## What does conn.autocommit = True do? \n",
    "\n",
    "## Q: What happens if I don't set it?\n",
    "## A: Bad things, unless you do conn.commit() after each transaction!!"
   ]
  },
  {
   "cell_type": "markdown",
   "metadata": {},
   "source": [
    "### The default is conn.autocommit = False. Let's return to the default setting now."
   ]
  },
  {
   "cell_type": "code",
   "execution_count": 34,
   "metadata": {},
   "outputs": [],
   "source": [
    "conn.autocommit = False"
   ]
  },
  {
   "cell_type": "code",
   "execution_count": 40,
   "metadata": {},
   "outputs": [
    {
     "data": {
      "text/plain": [
       "['Ariel Wright', 'rodney91@greer.com']"
      ]
     },
     "execution_count": 40,
     "metadata": {},
     "output_type": "execute_result"
    }
   ],
   "source": [
    "data = [fake_data.name(), fake_data.email()] # data can be any iterable\n",
    "data"
   ]
  },
  {
   "cell_type": "code",
   "execution_count": 41,
   "metadata": {},
   "outputs": [],
   "source": [
    "# This won't work if conn.autocommit == False\n",
    "with conn:\n",
    "    for _ in range(5): #insert the same data 5 times\n",
    "            cur.execute(\"INSERT INTO psycopg_test (name, email) VALUES (%s, %s)\", data)"
   ]
  },
  {
   "cell_type": "code",
   "execution_count": 42,
   "metadata": {},
   "outputs": [],
   "source": [
    "cur.execute(\"SELECT * FROM psycopg_test;\") #NOTHING COMES BACK"
   ]
  },
  {
   "cell_type": "markdown",
   "metadata": {},
   "source": [
    "### Nothing comes back because we didn't commit the transaction!!!!"
   ]
  },
  {
   "cell_type": "code",
   "execution_count": 43,
   "metadata": {},
   "outputs": [],
   "source": [
    "conn.commit() # YOU MUST COMMIT AFTER EACH TRANSACTION when conn.autocommit == False\n"
   ]
  },
  {
   "cell_type": "code",
   "execution_count": 44,
   "metadata": {},
   "outputs": [
    {
     "data": {
      "text/plain": [
       "[(1, 'sean', 'sean.reed@galvanize.com'),\n",
       " (2, 'Dr. Sarah Drake', 'wagnerjohnathan@fox.org'),\n",
       " (3, 'Dr. Sarah Drake', 'wagnerjohnathan@fox.org'),\n",
       " (4, 'Rachel Simon', 'virginiamartin@yahoo.com'),\n",
       " (5, 'Miguel Baker', 'david44@rodriguez-simon.biz'),\n",
       " (6, 'Clayton Woodard', 'jefferyroberts@burton.com'),\n",
       " (7, 'Shannon Hall', 'mitchellkathleen@gmail.com'),\n",
       " (8, 'Terrence Anderson', 'moranstephanie@hotmail.com'),\n",
       " (9, 'Timothy Harper', 'marybell@hotmail.com'),\n",
       " (10, 'James Rivas', 'snowjulie@gmail.com'),\n",
       " (11, 'Tracey Knight', 'daniellemoore@wells.info'),\n",
       " (12, 'Ann Carter', 'tylerwilliamson@frazier.com'),\n",
       " (13, 'Jennifer Holmes', 'kenneth37@massey.com'),\n",
       " (14, 'Julie Thomas', 'dayalison@cox-nelson.info'),\n",
       " (15, 'Megan Garner', 'jamesgilbert@anderson.com'),\n",
       " (16, 'Matthew Manning', 'zkline@gmail.com'),\n",
       " (17, 'Janice Waller', 'rickysmith@yahoo.com'),\n",
       " (18, 'Amy Beck', 'mcintyreaaron@mills.com'),\n",
       " (19, 'John Jacobson', 'william14@dixon.com'),\n",
       " (20, 'Tamara Strickland', 'ybeck@gmail.com'),\n",
       " (21, 'Michael Kane', 'akirby@romero-rose.info'),\n",
       " (22, 'Sandra Taylor', 'douglas06@james.com'),\n",
       " (23, 'Richard Hughes', 'lynchjessica@sanchez.com'),\n",
       " (24, 'Mr. Kenneth Parks DDS', 'frhodes@yahoo.com'),\n",
       " (25, 'Casey Chambers', 'ajones@gmail.com'),\n",
       " (26, 'Kayla Vang', 'denisesnyder@yahoo.com'),\n",
       " (27, 'Matthew Singh', 'amyhayes@nguyen.biz'),\n",
       " (28, 'Melissa Campbell', 'albert21@page.com'),\n",
       " (29, 'Chad Campbell', 'coxbilly@green-cole.biz'),\n",
       " (30, 'Anthony Bradley', 'youngjose@johnston.biz'),\n",
       " (31, 'Randall Lee', 'nicole57@hotmail.com'),\n",
       " (32, 'Megan Blankenship', 'riosjoshua@hotmail.com'),\n",
       " (33, 'Ariel Wright', 'rodney91@greer.com'),\n",
       " (34, 'Ariel Wright', 'rodney91@greer.com'),\n",
       " (35, 'Ariel Wright', 'rodney91@greer.com'),\n",
       " (36, 'Ariel Wright', 'rodney91@greer.com'),\n",
       " (37, 'Ariel Wright', 'rodney91@greer.com')]"
      ]
     },
     "execution_count": 44,
     "metadata": {},
     "output_type": "execute_result"
    }
   ],
   "source": [
    "cur.fetchall()"
   ]
  },
  {
   "cell_type": "code",
   "execution_count": null,
   "metadata": {},
   "outputs": [],
   "source": []
  },
  {
   "cell_type": "code",
   "execution_count": 47,
   "metadata": {},
   "outputs": [],
   "source": [
    "with conn.cursor() as cur:\n",
    "    cur.execute(\"SELECT * FROM psycopg_test;\")\n",
    "    conn.commit()\n",
    "    cur.fetchall()"
   ]
  },
  {
   "cell_type": "code",
   "execution_count": null,
   "metadata": {},
   "outputs": [],
   "source": []
  },
  {
   "cell_type": "code",
   "execution_count": null,
   "metadata": {},
   "outputs": [],
   "source": [
    "cur = conn.cursor()\n",
    "\n",
    "cur.execute(\"SELECT * FROM psycopg_test;\")\n",
    "conn.commit()\n",
    "cur.fetchall()"
   ]
  },
  {
   "cell_type": "code",
   "execution_count": null,
   "metadata": {},
   "outputs": [],
   "source": [
    "cur.fetchall()"
   ]
  },
  {
   "cell_type": "code",
   "execution_count": null,
   "metadata": {},
   "outputs": [],
   "source": [
    "cur.scroll(0,'absolute')\n",
    "cur.fetchall()"
   ]
  },
  {
   "cell_type": "code",
   "execution_count": null,
   "metadata": {},
   "outputs": [],
   "source": [
    "conn.autocommit = True"
   ]
  },
  {
   "cell_type": "code",
   "execution_count": null,
   "metadata": {},
   "outputs": [],
   "source": [
    "cur.close()\n",
    "conn.close()"
   ]
  },
  {
   "cell_type": "code",
   "execution_count": null,
   "metadata": {},
   "outputs": [],
   "source": []
  }
 ],
 "metadata": {
  "kernelspec": {
   "display_name": "Python 3",
   "language": "python",
   "name": "python3"
  },
  "language_info": {
   "codemirror_mode": {
    "name": "ipython",
    "version": 3
   },
   "file_extension": ".py",
   "mimetype": "text/x-python",
   "name": "python",
   "nbconvert_exporter": "python",
   "pygments_lexer": "ipython3",
   "version": "3.7.9"
  }
 },
 "nbformat": 4,
 "nbformat_minor": 4
}
